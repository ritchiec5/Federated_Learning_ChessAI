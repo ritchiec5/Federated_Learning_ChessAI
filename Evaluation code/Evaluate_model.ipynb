{
  "cells": [
    {
      "cell_type": "markdown",
      "metadata": {
        "id": "cMgBRL1Kdc0B"
      },
      "source": [
        "# Functions"
      ]
    },
    {
      "cell_type": "code",
      "execution_count": 22,
      "metadata": {
        "id": "Rdo64dA7dhBE"
      },
      "outputs": [],
      "source": [
        "import chess\n",
        "\n",
        "squares_index = {\n",
        "  'a': 0,\n",
        "  'b': 1,\n",
        "  'c': 2,\n",
        "  'd': 3,\n",
        "  'e': 4,\n",
        "  'f': 5,\n",
        "  'g': 6,\n",
        "  'h': 7\n",
        "}\n",
        "\n",
        "\n",
        "# example: h3 -> 17\n",
        "def square_to_index(square):\n",
        "  letter = chess.square_name(square)\n",
        "  return 8 - int(letter[1]), squares_index[letter[0]]\n",
        "\n",
        "\n",
        "def split_dims(board):\n",
        "  # this is the 3d matrix\n",
        "  board3d = numpy.zeros((14, 8, 8), dtype=numpy.int8)\n",
        "\n",
        "  # here we add the pieces's view on the matrix\n",
        "  for piece in chess.PIECE_TYPES:\n",
        "    for square in board.pieces(piece, chess.WHITE):\n",
        "      idx = numpy.unravel_index(square, (8, 8))\n",
        "      board3d[piece - 1][7 - idx[0]][idx[1]] = 1\n",
        "    for square in board.pieces(piece, chess.BLACK):\n",
        "      idx = numpy.unravel_index(square, (8, 8))\n",
        "      board3d[piece + 5][7 - idx[0]][idx[1]] = 1\n",
        "\n",
        "  # add attacks and valid moves too\n",
        "  # so the network knows what is being attacked\n",
        "  aux = board.turn\n",
        "  board.turn = chess.WHITE\n",
        "  for move in board.legal_moves:\n",
        "      i, j = square_to_index(move.to_square)\n",
        "      board3d[12][i][j] = 1\n",
        "  board.turn = chess.BLACK\n",
        "  for move in board.legal_moves:\n",
        "      i, j = square_to_index(move.to_square)\n",
        "      board3d[13][i][j] = 1\n",
        "  board.turn = aux\n",
        "\n",
        "  return board3d"
      ]
    },
    {
      "cell_type": "code",
      "execution_count": 24,
      "metadata": {},
      "outputs": [
        {
          "name": "stdout",
          "output_type": "stream",
          "text": [
            "0.50292844\n",
            "None\n"
          ]
        }
      ],
      "source": [
        "best_move = None\n",
        "\n",
        "\n",
        "def minimaxv0(board, depth, alpha, beta, maximizingPlayer, model, original_depth):\n",
        "  global best_move\n",
        "  if depth == 0 or board.is_game_over():\n",
        "    return minimax_eval(board, model)\n",
        "\n",
        "  if maximizingPlayer:\n",
        "    value = -numpy.inf\n",
        "    for move in board.legal_moves:\n",
        "      board.push(move)\n",
        "\n",
        "      if depth == original_depth:\n",
        "        temp_value = value\n",
        "        value = max(value, minimaxv0(board, depth - 1, alpha,\n",
        "                    beta, False, model, original_depth))\n",
        "        if value != temp_value:\n",
        "          best_move = move\n",
        "      else:\n",
        "        value = max(value, minimaxv0(board, depth - 1, alpha,\n",
        "                    beta, False, model, original_depth))\n",
        "\n",
        "      board.pop()\n",
        "      if value >= beta:\n",
        "        break\n",
        "      alpha = max(alpha, value)\n",
        "    return value\n",
        "\n",
        "  else:\n",
        "    value = numpy.inf\n",
        "    for move in board.legal_moves:\n",
        "      board.push(move)\n",
        "      value = min(value, minimaxv0(board, depth - 1, alpha,\n",
        "                  beta, True, model, original_depth))\n",
        "      board.pop()\n",
        "      if value <= alpha:\n",
        "        break\n",
        "      beta = min(beta, value)\n",
        "    return value\n",
        "\n",
        "\n",
        "def minimax_eval(board, model):\n",
        "  board3d = split_dims(board)\n",
        "  board3d = numpy.expand_dims(board3d, 0)\n",
        "  return model.predict(board3d)[0][0]\n",
        "\n",
        "board = chess.Board()\n",
        "move = minimaxv0(board, 1, -numpy.inf, numpy.inf, True, model, 3)\n",
        "print(move)\n",
        "print(best_move)\n"
      ]
    },
    {
      "cell_type": "code",
      "execution_count": 29,
      "metadata": {},
      "outputs": [],
      "source": [
        "import numpy\n",
        "import tensorflow.keras.callbacks as callbacks\n",
        "\n",
        "\n",
        "def get_dataset():\n",
        "\t# Download dataset.npz from the link in Readme.md\n",
        "\tcontainer = numpy.load('dataset.npz')\n",
        "\tb, v = container['b'], container['v']\n",
        "\tv = numpy.asarray(v / abs(v).max() / 2 + 0.5,\n",
        "\t                  dtype=numpy.float32)  # normalization (0 - 1)\n",
        "\treturn b, v\n",
        "\n",
        "\n",
        "x, y = get_dataset()\n"
      ]
    },
    {
      "cell_type": "code",
      "execution_count": 31,
      "metadata": {},
      "outputs": [],
      "source": [
        "from sklearn.model_selection import train_test_split\n",
        "X_train, X_test, Y_train, Y_test = train_test_split(\n",
        "    x, y, test_size=0.3, random_state=42)\n"
      ]
    },
    {
      "cell_type": "markdown",
      "metadata": {
        "id": "ukmA7z-dlB6m"
      },
      "source": [
        "# TensorFlow!"
      ]
    },
    {
      "cell_type": "code",
      "execution_count": 33,
      "metadata": {
        "id": "3IjDiS3Bmo5m"
      },
      "outputs": [],
      "source": [
        "\"\"\"\n",
        "Initialize Tensorflow model\n",
        "\"\"\"\n",
        "import numpy\n",
        "import tensorflow\n",
        "\n",
        "# cen_model = tensorflow.keras.models.load_model('model_weight/global_model.h5')\n",
        "fed0_model = tensorflow.keras.models.load_model('model_weight/global_model.h5')\n",
        "fed1_model = tensorflow.keras.models.load_model('model_weight/global_model.h5')\n",
        "fed2_model = tensorflow.keras.models.load_model('model_weight/global_model.h5')\n",
        "# cen_model.tensorflow.keras.models.load_model(\"model_weight/centralized_weights\")\n",
        "fed0_model.load_weights(\"model_weight/federated0_weights\")\n",
        "fed1_model.load_weights(\"model_weight/federated1_weights\")\n",
        "fed2_model.load_weights(\"model_weight/federated2_weights\")\n"
      ]
    },
    {
      "cell_type": "markdown",
      "metadata": {
        "id": "UndQQeUurAKp"
      },
      "source": [
        "# Checking Accuracy"
      ]
    },
    {
      "cell_type": "code",
      "execution_count": 34,
      "metadata": {},
      "outputs": [
        {
          "name": "stdout",
          "output_type": "stream",
          "text": [
            "3516/3516 [==============================] - 54s 15ms/step - loss: 2.7958e-04\n",
            "test loss, test acc: 0.0002795836189761758\n"
          ]
        }
      ],
      "source": [
        "results0 = fed0_model.evaluate(X_test, Y_test, batch_size = 128)\n",
        "print(\"test loss, test acc:\", results0)"
      ]
    },
    {
      "cell_type": "code",
      "execution_count": 35,
      "metadata": {},
      "outputs": [
        {
          "name": "stdout",
          "output_type": "stream",
          "text": [
            "3516/3516 [==============================] - 59s 17ms/step - loss: 2.7958e-04\n",
            "test loss, test acc: 0.00027957966085523367\n"
          ]
        }
      ],
      "source": [
        "results1 = fed1_model.evaluate(X_test, Y_test, batch_size=128)\n",
        "print(\"test loss, test acc:\", results1)\n"
      ]
    },
    {
      "cell_type": "code",
      "execution_count": 36,
      "metadata": {},
      "outputs": [
        {
          "name": "stdout",
          "output_type": "stream",
          "text": [
            "3516/3516 [==============================] - 55s 16ms/step - loss: 0.0010\n",
            "test loss, test acc: 0.001041704323142767\n"
          ]
        }
      ],
      "source": [
        "results2 = fed2_model.evaluate(X_test, Y_test, batch_size=128)\n",
        "print(\"test loss, test acc:\", results2)"
      ]
    },
    {
      "cell_type": "code",
      "execution_count": null,
      "metadata": {},
      "outputs": [],
      "source": [
        "# this function will create our x (board)\n",
        "import random\n",
        "\n",
        "\n",
        "def random_board(max_depth=200):\n",
        "  board = chess.Board()\n",
        "  depth = random.randrange(0, max_depth)\n",
        "\n",
        "  for _ in range(depth):\n",
        "    all_moves = list(board.legal_moves)\n",
        "    random_move = random.choice(all_moves)\n",
        "    board.push(random_move)\n",
        "    if board.is_game_over():\n",
        "      break\n",
        "\n",
        "  return board"
      ]
    },
    {
      "cell_type": "code",
      "execution_count": null,
      "metadata": {},
      "outputs": [],
      "source": [
        "board = random_board()\n",
        "move = get_ai_move(board, 2, True, model)\n",
        "board.push(move)\n",
        "board\n"
      ]
    },
    {
      "cell_type": "code",
      "execution_count": null,
      "metadata": {},
      "outputs": [],
      "source": [
        "board.pop()\n",
        "\n",
        "move = minimaxv0(board,2, -numpy.inf, numpy.inf, True, model, 2)\n",
        "print(best_move)\n",
        "board.push(best_move)\n",
        "board\n"
      ]
    },
    {
      "cell_type": "code",
      "execution_count": null,
      "metadata": {},
      "outputs": [],
      "source": [
        "board.pop()\n",
        "move = get_ai_move0(board, 2, True, model)\n",
        "print(move)\n",
        "board.push(move)\n",
        "board\n"
      ]
    },
    {
      "cell_type": "code",
      "execution_count": null,
      "metadata": {},
      "outputs": [],
      "source": [
        "board.pop()\n",
        "move = minimax2(board, model)\n",
        "print(move)\n",
        "board.push(move)\n",
        "board\n"
      ]
    },
    {
      "cell_type": "code",
      "execution_count": null,
      "metadata": {},
      "outputs": [],
      "source": [
        "board"
      ]
    },
    {
      "cell_type": "code",
      "execution_count": null,
      "metadata": {},
      "outputs": [],
      "source": [
        "def minimax2(board, model):\n",
        "    beta = -numpy.inf\n",
        "    stop = False\n",
        "    for move in board.legal_moves:\n",
        "        mini_eval = numpy.inf\n",
        "        board.push(move)\n",
        "        \n",
        "        for move1 in board.legal_moves:\n",
        "            if stop:\n",
        "                pass\n",
        "            else:\n",
        "                board.push(move1)\n",
        "                eval = minimax_eval(board, model)\n",
        "                board.pop()\n",
        "                if(eval < beta):\n",
        "                    stop = True\n",
        "                    # beta = eval\n",
        "                mini_eval = min(mini_eval, eval) # Best move for black\n",
        "        \n",
        "        if stop == False:\n",
        "            beta = mini_eval\n",
        "            print(beta)\n",
        "            best_move = move\n",
        "        else:\n",
        "            stop = False\n",
        "        board.pop()\n",
        "    return best_move\n",
        "\n",
        "\n",
        "def minimax3(board, model):\n",
        "    alpha = numpy.inf\n",
        "    stop = False\n",
        "    for move in board.legal_moves:\n",
        "        max_eval = -numpy.inf\n",
        "        board.push(move)\n",
        "        \n",
        "        for move1 in board.legal_moves:\n",
        "            if stop:\n",
        "                pass\n",
        "            else:\n",
        "                board.push(move1)\n",
        "                eval = minimax_eval(board, model)\n",
        "                board.pop()\n",
        "                if(eval > alpha):\n",
        "                    stop = True\n",
        "                max_eval = max(max_eval, eval)  # Best move for White\n",
        "        \n",
        "        if stop == False:\n",
        "            alpha = max_eval\n",
        "            best_move = move\n",
        "            print(alpha)\n",
        "        else:\n",
        "            stop = False\n",
        "        board.pop()\n",
        "    return best_move\n",
        "\n",
        "\n",
        "def minimax_eval(board, model):\n",
        "    board3d = split_dims(board)\n",
        "    board3d = numpy.expand_dims(board3d, 0)\n",
        "    return model.predict(board3d)[0][0]\n"
      ]
    },
    {
      "cell_type": "code",
      "execution_count": null,
      "metadata": {},
      "outputs": [],
      "source": [
        "\"\"\"\n",
        "AI vs AI\n",
        "\"\"\"\n",
        "board = chess.Board()\n",
        "\n",
        "while True:\n",
        "    move = get_ai_move(board, 1, True, model)\n",
        "    # move = minimax2(board, model)\n",
        "    board.push(move)\n",
        "    print(move)\n",
        "    print(f'\\n{board}')\n",
        "    if board.is_game_over():\n",
        "        print('game_over')\n",
        "        break\n",
        "    # move = get_ai_move(board, 1, False, model)\n",
        "    move = minimax3(board, model)\n",
        "    board.push(move)\n",
        "    print(move)\n",
        "    print(f'\\n{board}')\n",
        "    if board.is_game_over():\n",
        "        print('game_over')\n",
        "        break\n"
      ]
    },
    {
      "cell_type": "code",
      "execution_count": null,
      "metadata": {},
      "outputs": [],
      "source": [
        "board"
      ]
    },
    {
      "cell_type": "code",
      "execution_count": null,
      "metadata": {},
      "outputs": [],
      "source": []
    }
  ],
  "metadata": {
    "accelerator": "GPU",
    "colab": {
      "collapsed_sections": [],
      "name": "Chess AI",
      "private_outputs": true,
      "provenance": []
    },
    "interpreter": {
      "hash": "7e7666bfb430d4514d1195031d15ccf80594a969647ade4f9e6074d5049c6fab"
    },
    "kernelspec": {
      "display_name": "Python 3.9.7 64-bit",
      "language": "python",
      "name": "python3"
    },
    "language_info": {
      "codemirror_mode": {
        "name": "ipython",
        "version": 3
      },
      "file_extension": ".py",
      "mimetype": "text/x-python",
      "name": "python",
      "nbconvert_exporter": "python",
      "pygments_lexer": "ipython3",
      "version": "3.9.7"
    }
  },
  "nbformat": 4,
  "nbformat_minor": 0
}
