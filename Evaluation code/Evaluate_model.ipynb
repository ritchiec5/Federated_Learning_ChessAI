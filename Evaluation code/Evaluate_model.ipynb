{
  "cells": [
    {
      "cell_type": "markdown",
      "metadata": {
        "id": "cMgBRL1Kdc0B"
      },
      "source": [
        "# Functions"
      ]
    },
    {
      "cell_type": "code",
      "execution_count": 3,
      "metadata": {},
      "outputs": [],
      "source": [
        "import numpy\n",
        "import tensorflow.keras.callbacks as callbacks\n",
        "\n",
        "\n",
        "def get_dataset():\n",
        "\t# Download dataset.npz from the link in Readme.md\n",
        "\tcontainer = numpy.load('dataset.npz')\n",
        "\tb, v = container['b'], container['v']\n",
        "\tv = numpy.asarray(v / abs(v).max() / 2 + 0.5,\n",
        "\t                  dtype=numpy.float32)  # normalization (0 - 1)\n",
        "\treturn b, v\n",
        "\n",
        "\n",
        "x, y = get_dataset()\n"
      ]
    },
    {
      "cell_type": "code",
      "execution_count": 4,
      "metadata": {},
      "outputs": [],
      "source": [
        "from sklearn.model_selection import train_test_split\n",
        "X_train, X_test, Y_train, Y_test = train_test_split(\n",
        "    x, y, test_size=0.3, random_state=42)"
      ]
    },
    {
      "cell_type": "markdown",
      "metadata": {
        "id": "ukmA7z-dlB6m"
      },
      "source": [
        "# TensorFlow!"
      ]
    },
    {
      "cell_type": "code",
      "execution_count": 5,
      "metadata": {
        "id": "3IjDiS3Bmo5m"
      },
      "outputs": [],
      "source": [
        "\"\"\"\n",
        "Initialize Tensorflow model\n",
        "\"\"\"\n",
        "import numpy\n",
        "import tensorflow\n",
        "\n",
        "cen_model = tensorflow.keras.models.load_model('model_weight/global_model.h5')\n",
        "fed0_model = tensorflow.keras.models.load_model('model_weight/global_model.h5')\n",
        "fed1_model = tensorflow.keras.models.load_model('model_weight/global_model.h5')\n",
        "fed2_model = tensorflow.keras.models.load_model('model_weight/global_model.h5')\n",
        "fed3_model = tensorflow.keras.models.load_model('model_weight/global_model.h5')\n",
        "eval_model = tensorflow.keras.models.load_model('model_weight/global_model.h5')\n",
        "\n",
        "cen_model.load_weights(\"model_weight/centralized_weights\")\n",
        "fed0_model.load_weights(\"model_weight/federated0_weights\")\n",
        "fed1_model.load_weights(\"model_weight/federated1_weights\")\n",
        "fed2_model.load_weights(\"model_weight/federated2_weights\")\n",
        "fed3_model.load_weights(\"model_weight/federated3_weights\")\n",
        "eval_model.load_weights(\"model_weight/Updated_global_weights\")"
      ]
    },
    {
      "cell_type": "markdown",
      "metadata": {
        "id": "UndQQeUurAKp"
      },
      "source": [
        "# Checking Accuracy"
      ]
    },
    {
      "cell_type": "code",
      "execution_count": null,
      "metadata": {},
      "outputs": [],
      "source": [
        "eval_results = eval_model.evaluate(X_test, Y_test, batch_size=128)\n",
        "print(\"test loss, test acc:\", eval_results)"
      ]
    },
    {
      "cell_type": "code",
      "execution_count": 6,
      "metadata": {},
      "outputs": [
        {
          "name": "stdout",
          "output_type": "stream",
          "text": [
            "3516/3516 [==============================] - 65s 18ms/step - loss: 2.7931e-04 0s - lo\n",
            "test loss, test acc: <keras.engine.functional.Functional object at 0x00000146850C6460>\n"
          ]
        }
      ],
      "source": [
        "results = cen_model.evaluate(X_test, Y_test, batch_size = 128)\n",
        "print(\"test loss, test acc:\", results)"
      ]
    },
    {
      "cell_type": "code",
      "execution_count": 7,
      "metadata": {},
      "outputs": [
        {
          "name": "stdout",
          "output_type": "stream",
          "text": [
            "3516/3516 [==============================] - 60s 17ms/step - loss: 2.7958e-04\n",
            "test loss, test acc: 0.0002795836189761758\n"
          ]
        }
      ],
      "source": [
        "results0 = fed0_model.evaluate(X_test, Y_test, batch_size = 128)\n",
        "print(\"test loss, test acc:\", results0)"
      ]
    },
    {
      "cell_type": "code",
      "execution_count": 8,
      "metadata": {},
      "outputs": [
        {
          "name": "stdout",
          "output_type": "stream",
          "text": [
            "3516/3516 [==============================] - 61s 17ms/step - loss: 2.7958e-04\n",
            "test loss, test acc: 0.00027957966085523367\n"
          ]
        }
      ],
      "source": [
        "results1 = fed1_model.evaluate(X_test, Y_test, batch_size=128)\n",
        "print(\"test loss, test acc:\", results1)\n"
      ]
    },
    {
      "cell_type": "code",
      "execution_count": 9,
      "metadata": {},
      "outputs": [
        {
          "name": "stdout",
          "output_type": "stream",
          "text": [
            "3516/3516 [==============================] - 68s 19ms/step - loss: 0.0010\n",
            "test loss, test acc: 0.001041704323142767\n"
          ]
        }
      ],
      "source": [
        "results2 = fed2_model.evaluate(X_test, Y_test, batch_size=128)\n",
        "print(\"test loss, test acc:\", results2)"
      ]
    },
    {
      "cell_type": "code",
      "execution_count": 10,
      "metadata": {},
      "outputs": [
        {
          "name": "stdout",
          "output_type": "stream",
          "text": [
            "3516/3516 [==============================] - 57s 16ms/step - loss: 2.8007e-04\n",
            "test loss, test acc: 0.00028006720822304487\n"
          ]
        }
      ],
      "source": [
        "results3 = fed3_model.evaluate(X_test, Y_test, batch_size=128)\n",
        "print(\"test loss, test acc:\", results3)\n"
      ]
    }
  ],
  "metadata": {
    "accelerator": "GPU",
    "colab": {
      "collapsed_sections": [],
      "name": "Chess AI",
      "private_outputs": true,
      "provenance": []
    },
    "interpreter": {
      "hash": "7e7666bfb430d4514d1195031d15ccf80594a969647ade4f9e6074d5049c6fab"
    },
    "kernelspec": {
      "display_name": "Python 3.9.7 64-bit",
      "language": "python",
      "name": "python3"
    },
    "language_info": {
      "codemirror_mode": {
        "name": "ipython",
        "version": 3
      },
      "file_extension": ".py",
      "mimetype": "text/x-python",
      "name": "python",
      "nbconvert_exporter": "python",
      "pygments_lexer": "ipython3",
      "version": "3.9.7"
    }
  },
  "nbformat": 4,
  "nbformat_minor": 0
}
