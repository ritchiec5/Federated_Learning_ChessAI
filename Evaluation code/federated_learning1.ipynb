{
 "cells": [
  {
   "cell_type": "markdown",
   "metadata": {
    "id": "ukmA7z-dlB6m"
   },
   "source": [
    "# TensorFlow!"
   ]
  },
  {
   "cell_type": "code",
   "execution_count": 1,
   "metadata": {
    "id": "6S7QNZqwmBOP"
   },
   "outputs": [],
   "source": [
    "import tensorflow\n",
    "import tensorflow.keras.models as models\n",
    "import tensorflow.keras.layers as layers\n",
    "import tensorflow.keras.utils as utils\n",
    "import tensorflow.keras.optimizers as optimizers\n",
    "\n",
    "client1_model = tensorflow.keras.models.load_model(\n",
    "    'model_weight/global_model.h5')\n",
    "client2_model = tensorflow.keras.models.load_model(\n",
    "    'model_weight/global_model.h5')\n"
   ]
  },
  {
   "cell_type": "markdown",
   "metadata": {
    "id": "ck79-w2ZxwVB"
   },
   "source": [
    "# It's training time!"
   ]
  },
  {
   "cell_type": "code",
   "execution_count": 2,
   "metadata": {
    "cellView": "both",
    "id": "CkOXxmoVyHdc"
   },
   "outputs": [],
   "source": [
    "import numpy\n",
    "import tensorflow.keras.callbacks as callbacks\n",
    "\n",
    "\n",
    "def get_dataset():\n",
    "\tcontainer = numpy.load('dataset.npz') # Download dataset.npz from the link in Readme.md\n",
    "\tb, v = container['b'], container['v']\n",
    "\tv = numpy.asarray(v / abs(v).max() / 2 + 0.5, dtype=numpy.float32) # normalization (0 - 1)\n",
    "\treturn b, v\n",
    "\n",
    "x_train, y_train = get_dataset()"
   ]
  },
  {
   "cell_type": "code",
   "execution_count": 3,
   "metadata": {},
   "outputs": [],
   "source": [
    "# Split dataset for two clients\n",
    "# pip install -U scikit-learn\n",
    "from sklearn.model_selection import train_test_split\n",
    "\n",
    "client1_x, client2_x, client1_y, client2y =train_test_split(x_train, y_train, test_size=0.5, random_state=100)"
   ]
  },
  {
   "cell_type": "code",
   "execution_count": 4,
   "metadata": {},
   "outputs": [
    {
     "name": "stdout",
     "output_type": "stream",
     "text": [
      "Epoch 1/100\n",
      "330/330 [==============================] - ETA: 0s - loss: 2.8261e-04"
     ]
    },
    {
     "name": "stderr",
     "output_type": "stream",
     "text": [
      "WARNING:absl:Found untraced functions such as _jit_compiled_convolution_op, _jit_compiled_convolution_op, _jit_compiled_convolution_op, _jit_compiled_convolution_op while saving (showing 4 of 4). These functions will not be directly callable after loading.\n"
     ]
    },
    {
     "name": "stdout",
     "output_type": "stream",
     "text": [
      "INFO:tensorflow:Assets written to: /checkpoint/f1-1\\assets\n"
     ]
    },
    {
     "name": "stderr",
     "output_type": "stream",
     "text": [
      "INFO:tensorflow:Assets written to: /checkpoint/f1-1\\assets\n"
     ]
    },
    {
     "name": "stdout",
     "output_type": "stream",
     "text": [
      "330/330 [==============================] - 108s 325ms/step - loss: 2.8261e-04 - val_loss: 2.9088e-04 - lr: 5.0000e-06\n",
      "Epoch 2/100\n",
      "330/330 [==============================] - 105s 317ms/step - loss: 2.8215e-04 - val_loss: 2.9099e-04 - lr: 5.0000e-06\n",
      "Epoch 3/100\n",
      "330/330 [==============================] - 101s 306ms/step - loss: 2.8172e-04 - val_loss: 2.9123e-04 - lr: 5.0000e-06\n",
      "Epoch 4/100\n",
      "330/330 [==============================] - 105s 319ms/step - loss: 2.8139e-04 - val_loss: 2.9156e-04 - lr: 5.0000e-06\n",
      "Epoch 5/100\n",
      "330/330 [==============================] - 102s 310ms/step - loss: 2.8109e-04 - val_loss: 2.9157e-04 - lr: 5.0000e-06\n",
      "Epoch 6/100\n",
      "330/330 [==============================] - 100s 303ms/step - loss: 2.8081e-04 - val_loss: 2.9187e-04 - lr: 5.0000e-06\n",
      "Epoch 7/100\n",
      "330/330 [==============================] - 100s 302ms/step - loss: 2.8047e-04 - val_loss: 2.9209e-04 - lr: 5.0000e-06\n",
      "Epoch 8/100\n",
      "330/330 [==============================] - 100s 303ms/step - loss: 2.8022e-04 - val_loss: 2.9223e-04 - lr: 5.0000e-06\n",
      "Epoch 9/100\n",
      "330/330 [==============================] - 100s 305ms/step - loss: 2.8000e-04 - val_loss: 2.9221e-04 - lr: 5.0000e-06\n",
      "Epoch 10/100\n",
      "330/330 [==============================] - 100s 304ms/step - loss: 2.7969e-04 - val_loss: 2.9274e-04 - lr: 5.0000e-06\n",
      "Epoch 11/100\n",
      "330/330 [==============================] - 101s 305ms/step - loss: 2.7942e-04 - val_loss: 2.9247e-04 - lr: 5.0000e-06\n",
      "Epoch 12/100\n",
      "330/330 [==============================] - 101s 306ms/step - loss: 2.7881e-04 - val_loss: 2.9240e-04 - lr: 5.0000e-07\n",
      "Epoch 13/100\n",
      "330/330 [==============================] - 102s 308ms/step - loss: 2.7875e-04 - val_loss: 2.9242e-04 - lr: 5.0000e-07\n",
      "Epoch 14/100\n",
      "330/330 [==============================] - 102s 308ms/step - loss: 2.7871e-04 - val_loss: 2.9247e-04 - lr: 5.0000e-07\n",
      "Epoch 15/100\n",
      "330/330 [==============================] - 101s 306ms/step - loss: 2.7868e-04 - val_loss: 2.9243e-04 - lr: 5.0000e-07\n",
      "Epoch 16/100\n",
      "330/330 [==============================] - 101s 308ms/step - loss: 2.7866e-04 - val_loss: 2.9247e-04 - lr: 5.0000e-07\n"
     ]
    },
    {
     "data": {
      "text/plain": [
       "<keras.callbacks.History at 0x179269e2970>"
      ]
     },
     "execution_count": 4,
     "metadata": {},
     "output_type": "execute_result"
    }
   ],
   "source": [
    "\"\"\"\n",
    "Training client 1 model\n",
    "\"\"\"\n",
    "from tensorflow.keras.callbacks import ModelCheckpoint\n",
    "checkpoint_filepath = '/checkpoint/f1-1/'\n",
    "model_checkpointing_callback = ModelCheckpoint(\n",
    "    filepath=checkpoint_filepath,\n",
    "    save_best_only=True,\n",
    ")\n",
    "client1_model.fit(client1_x, client1_y,\n",
    "          batch_size=2048,\n",
    "          epochs=100,\n",
    "          verbose=1,\n",
    "          validation_split=0.1,\n",
    "          callbacks=[callbacks.ReduceLROnPlateau(monitor='loss', patience=10),\n",
    "                     callbacks.EarlyStopping(monitor='loss', patience=15, min_delta=1e-4), model_checkpointing_callback])\n"
   ]
  },
  {
   "cell_type": "code",
   "execution_count": 5,
   "metadata": {
    "id": "RyOYq9mv2ppC"
   },
   "outputs": [
    {
     "name": "stdout",
     "output_type": "stream",
     "text": [
      "Epoch 1/100\n",
      "330/330 [==============================] - ETA: 0s - loss: 2.8484e-04"
     ]
    },
    {
     "name": "stderr",
     "output_type": "stream",
     "text": [
      "WARNING:absl:Found untraced functions such as _jit_compiled_convolution_op, _jit_compiled_convolution_op, _jit_compiled_convolution_op, _jit_compiled_convolution_op while saving (showing 4 of 4). These functions will not be directly callable after loading.\n"
     ]
    },
    {
     "name": "stdout",
     "output_type": "stream",
     "text": [
      "INFO:tensorflow:Assets written to: /tmp/checkpoint/f1-2\\assets\n"
     ]
    },
    {
     "name": "stderr",
     "output_type": "stream",
     "text": [
      "INFO:tensorflow:Assets written to: /tmp/checkpoint/f1-2\\assets\n"
     ]
    },
    {
     "name": "stdout",
     "output_type": "stream",
     "text": [
      "330/330 [==============================] - 107s 322ms/step - loss: 2.8484e-04 - val_loss: 2.8831e-04 - lr: 5.0000e-06\n",
      "Epoch 2/100\n",
      "330/330 [==============================] - 103s 311ms/step - loss: 2.8433e-04 - val_loss: 2.8879e-04 - lr: 5.0000e-06\n",
      "Epoch 3/100\n",
      "330/330 [==============================] - 99s 301ms/step - loss: 2.8400e-04 - val_loss: 2.8854e-04 - lr: 5.0000e-06\n",
      "Epoch 4/100\n",
      "330/330 [==============================] - 100s 303ms/step - loss: 2.8369e-04 - val_loss: 2.8908e-04 - lr: 5.0000e-06\n",
      "Epoch 5/100\n",
      "330/330 [==============================] - 103s 313ms/step - loss: 2.8333e-04 - val_loss: 2.8904e-04 - lr: 5.0000e-06\n",
      "Epoch 6/100\n",
      "330/330 [==============================] - 106s 322ms/step - loss: 2.8305e-04 - val_loss: 2.8921e-04 - lr: 5.0000e-06\n",
      "Epoch 7/100\n",
      "330/330 [==============================] - 106s 321ms/step - loss: 2.8276e-04 - val_loss: 2.8937e-04 - lr: 5.0000e-06\n",
      "Epoch 8/100\n",
      "330/330 [==============================] - 106s 322ms/step - loss: 2.8252e-04 - val_loss: 2.8965e-04 - lr: 5.0000e-06\n",
      "Epoch 9/100\n",
      "330/330 [==============================] - 102s 310ms/step - loss: 2.8223e-04 - val_loss: 2.8986e-04 - lr: 5.0000e-06\n",
      "Epoch 10/100\n",
      "330/330 [==============================] - 99s 300ms/step - loss: 2.8199e-04 - val_loss: 2.9001e-04 - lr: 5.0000e-06\n",
      "Epoch 11/100\n",
      "330/330 [==============================] - 99s 300ms/step - loss: 2.8176e-04 - val_loss: 2.9023e-04 - lr: 5.0000e-06\n",
      "Epoch 12/100\n",
      "330/330 [==============================] - 103s 311ms/step - loss: 2.8112e-04 - val_loss: 2.9001e-04 - lr: 5.0000e-07\n",
      "Epoch 13/100\n",
      "330/330 [==============================] - 99s 300ms/step - loss: 2.8107e-04 - val_loss: 2.9003e-04 - lr: 5.0000e-07\n",
      "Epoch 14/100\n",
      "330/330 [==============================] - 99s 300ms/step - loss: 2.8103e-04 - val_loss: 2.9002e-04 - lr: 5.0000e-07\n",
      "Epoch 15/100\n",
      "330/330 [==============================] - 100s 302ms/step - loss: 2.8101e-04 - val_loss: 2.9004e-04 - lr: 5.0000e-07\n",
      "Epoch 16/100\n",
      "330/330 [==============================] - 102s 309ms/step - loss: 2.8099e-04 - val_loss: 2.9008e-04 - lr: 5.0000e-07\n"
     ]
    },
    {
     "data": {
      "text/plain": [
       "<keras.callbacks.History at 0x1792a609070>"
      ]
     },
     "execution_count": 5,
     "metadata": {},
     "output_type": "execute_result"
    }
   ],
   "source": [
    "\"\"\"\n",
    "Training client 2 model\n",
    "\"\"\"\n",
    "checkpoint_filepath = '/tmp/checkpoint/f1-2/'\n",
    "model_checkpointing_callback = ModelCheckpoint(\n",
    "    filepath=checkpoint_filepath,\n",
    "    save_best_only=True,\n",
    ")\n",
    "client2_model.fit(client2_x, client2y,\n",
    "          batch_size=2048,\n",
    "          epochs=100,\n",
    "          verbose=1,\n",
    "          validation_split=0.1,\n",
    "          callbacks=[callbacks.ReduceLROnPlateau(monitor='loss', patience=10),\n",
    "                     callbacks.EarlyStopping(monitor='loss', patience=15, min_delta=1e-4), model_checkpointing_callback])\n"
   ]
  },
  {
   "cell_type": "code",
   "execution_count": 6,
   "metadata": {},
   "outputs": [],
   "source": [
    "\"\"\"\n",
    "Aggregrate models\n",
    "\"\"\"\n",
    "\n",
    "client1_weights = client1_model.get_weights()\n",
    "client2_weights = client2_model.get_weights()\n",
    "\n",
    "client1_weights = numpy.array(client1_weights, dtype=object)\n",
    "client2_weights = numpy.array(client2_weights, dtype=object)\n",
    "\n",
    "client1_weights = 1/2 * client1_weights\n",
    "client2_weights = 1/2 * client2_weights\n",
    "\n",
    "aggregated_weights = numpy.add(client1_weights,client2_weights)\n",
    "\n",
    "client1_model.set_weights(aggregated_weights)\n",
    "client1_model.save_weights(\"model_weight/federated1_weights\", save_format=\"h5\")"
   ]
  }
 ],
 "metadata": {
  "accelerator": "GPU",
  "colab": {
   "collapsed_sections": [],
   "name": "Chess AI",
   "private_outputs": true,
   "provenance": []
  },
  "interpreter": {
   "hash": "7e7666bfb430d4514d1195031d15ccf80594a969647ade4f9e6074d5049c6fab"
  },
  "kernelspec": {
   "display_name": "Python 3",
   "language": "python",
   "name": "python3"
  },
  "language_info": {
   "codemirror_mode": {
    "name": "ipython",
    "version": 3
   },
   "file_extension": ".py",
   "mimetype": "text/x-python",
   "name": "python",
   "nbconvert_exporter": "python",
   "pygments_lexer": "ipython3",
   "version": "3.8.5"
  }
 },
 "nbformat": 4,
 "nbformat_minor": 1
}
