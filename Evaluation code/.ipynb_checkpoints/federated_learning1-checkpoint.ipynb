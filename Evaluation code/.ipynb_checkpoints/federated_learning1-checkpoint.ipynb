{
 "cells": [
  {
   "cell_type": "markdown",
   "metadata": {
    "id": "ukmA7z-dlB6m"
   },
   "source": [
    "# TensorFlow!"
   ]
  },
  {
   "cell_type": "code",
   "execution_count": 1,
   "metadata": {
    "id": "6S7QNZqwmBOP"
   },
   "outputs": [],
   "source": [
    "import tensorflow\n",
    "import tensorflow.keras.models as models\n",
    "import tensorflow.keras.layers as layers\n",
    "import tensorflow.keras.utils as utils\n",
    "import tensorflow.keras.optimizers as optimizers\n",
    "\n",
    "client1_model = tensorflow.keras.models.load_model(\n",
    "    'model_weight/global_model.h5')\n",
    "client2_model = tensorflow.keras.models.load_model(\n",
    "    'model_weight/global_model.h5')\n"
   ]
  },
  {
   "cell_type": "markdown",
   "metadata": {
    "id": "ck79-w2ZxwVB"
   },
   "source": [
    "# It's training time!"
   ]
  },
  {
   "cell_type": "code",
   "execution_count": 2,
   "metadata": {
    "cellView": "both",
    "id": "CkOXxmoVyHdc"
   },
   "outputs": [],
   "source": [
    "import numpy\n",
    "import tensorflow.keras.callbacks as callbacks\n",
    "\n",
    "\n",
    "def get_dataset():\n",
    "\tcontainer = numpy.load('dataset.npz') # Download dataset.npz from the link in Readme.md\n",
    "\tb, v = container['b'], container['v']\n",
    "\tv = numpy.asarray(v / abs(v).max() / 2 + 0.5, dtype=numpy.float32) # normalization (0 - 1)\n",
    "\treturn b, v\n",
    "\n",
    "x_train, y_train = get_dataset()"
   ]
  },
  {
   "cell_type": "code",
   "execution_count": 3,
   "metadata": {},
   "outputs": [],
   "source": [
    "# Split dataset for two clients\n",
    "# pip install -U scikit-learn\n",
    "from sklearn.model_selection import train_test_split\n",
    "\n",
    "client1_x, client2_x, client1_y, client2y =train_test_split(x_train, y_train, test_size=0.5, random_state=100)"
   ]
  },
  {
   "cell_type": "code",
   "execution_count": 4,
   "metadata": {},
   "outputs": [
    {
     "name": "stdout",
     "output_type": "stream",
     "text": [
      "Epoch 1/100\n",
      "330/330 [==============================] - ETA: 0s - loss: 2.8266e-04"
     ]
    },
    {
     "name": "stderr",
     "output_type": "stream",
     "text": [
      "WARNING:absl:Found untraced functions such as _jit_compiled_convolution_op, _jit_compiled_convolution_op, _jit_compiled_convolution_op, _jit_compiled_convolution_op while saving (showing 4 of 4). These functions will not be directly callable after loading.\n"
     ]
    },
    {
     "name": "stdout",
     "output_type": "stream",
     "text": [
      "INFO:tensorflow:Assets written to: /checkpoint/f1-1\\assets\n"
     ]
    },
    {
     "name": "stderr",
     "output_type": "stream",
     "text": [
      "INFO:tensorflow:Assets written to: /checkpoint/f1-1\\assets\n"
     ]
    },
    {
     "name": "stdout",
     "output_type": "stream",
     "text": [
      "330/330 [==============================] - 133s 400ms/step - loss: 2.8266e-04 - val_loss: 2.9081e-04 - lr: 5.0000e-06\n",
      "Epoch 2/100\n",
      "330/330 [==============================] - 120s 363ms/step - loss: 2.8213e-04 - val_loss: 2.9098e-04 - lr: 5.0000e-06\n",
      "Epoch 3/100\n",
      "330/330 [==============================] - 122s 371ms/step - loss: 2.8173e-04 - val_loss: 2.9117e-04 - lr: 5.0000e-06\n",
      "Epoch 4/100\n",
      "330/330 [==============================] - 120s 363ms/step - loss: 2.8143e-04 - val_loss: 2.9148e-04 - lr: 5.0000e-06\n",
      "Epoch 5/100\n",
      "330/330 [==============================] - 122s 371ms/step - loss: 2.8107e-04 - val_loss: 2.9172e-04 - lr: 5.0000e-06\n",
      "Epoch 6/100\n",
      "330/330 [==============================] - 126s 381ms/step - loss: 2.8078e-04 - val_loss: 2.9196e-04 - lr: 5.0000e-06\n",
      "Epoch 7/100\n",
      "330/330 [==============================] - 126s 380ms/step - loss: 2.8048e-04 - val_loss: 2.9200e-04 - lr: 5.0000e-06\n",
      "Epoch 8/100\n",
      "330/330 [==============================] - 125s 378ms/step - loss: 2.8019e-04 - val_loss: 2.9195e-04 - lr: 5.0000e-06\n",
      "Epoch 9/100\n",
      "330/330 [==============================] - 124s 376ms/step - loss: 2.7993e-04 - val_loss: 2.9209e-04 - lr: 5.0000e-06\n",
      "Epoch 10/100\n",
      "330/330 [==============================] - 123s 374ms/step - loss: 2.7971e-04 - val_loss: 2.9241e-04 - lr: 5.0000e-06\n",
      "Epoch 11/100\n",
      "330/330 [==============================] - 128s 388ms/step - loss: 2.7943e-04 - val_loss: 2.9293e-04 - lr: 5.0000e-06\n",
      "Epoch 12/100\n",
      "330/330 [==============================] - 126s 383ms/step - loss: 2.7880e-04 - val_loss: 2.9251e-04 - lr: 5.0000e-07\n",
      "Epoch 13/100\n",
      "330/330 [==============================] - 103s 313ms/step - loss: 2.7874e-04 - val_loss: 2.9248e-04 - lr: 5.0000e-07\n",
      "Epoch 14/100\n",
      "330/330 [==============================] - 102s 308ms/step - loss: 2.7871e-04 - val_loss: 2.9246e-04 - lr: 5.0000e-07\n",
      "Epoch 15/100\n",
      "330/330 [==============================] - 101s 306ms/step - loss: 2.7868e-04 - val_loss: 2.9246e-04 - lr: 5.0000e-07\n",
      "Epoch 16/100\n",
      "330/330 [==============================] - 102s 309ms/step - loss: 2.7865e-04 - val_loss: 2.9248e-04 - lr: 5.0000e-07\n"
     ]
    },
    {
     "data": {
      "text/plain": [
       "<keras.callbacks.History at 0x1ff9cac5970>"
      ]
     },
     "execution_count": 4,
     "metadata": {},
     "output_type": "execute_result"
    }
   ],
   "source": [
    "\"\"\"\n",
    "Training client 1 model\n",
    "\"\"\"\n",
    "from tensorflow.keras.callbacks import ModelCheckpoint\n",
    "checkpoint_filepath = '/checkpoint/f1-1/'\n",
    "model_checkpointing_callback = ModelCheckpoint(\n",
    "    filepath=checkpoint_filepath,\n",
    "    save_best_only=True,\n",
    ")\n",
    "client1_model.fit(client1_x, client1_y,\n",
    "          batch_size=2048,\n",
    "          epochs=100,\n",
    "          verbose=1,\n",
    "          validation_split=0.1,\n",
    "          callbacks=[callbacks.ReduceLROnPlateau(monitor='loss', patience=10),\n",
    "                     callbacks.EarlyStopping(monitor='loss', patience=15, min_delta=1e-4), model_checkpointing_callback])\n"
   ]
  },
  {
   "cell_type": "code",
   "execution_count": 5,
   "metadata": {
    "id": "RyOYq9mv2ppC"
   },
   "outputs": [
    {
     "name": "stdout",
     "output_type": "stream",
     "text": [
      "Epoch 1/100\n",
      "330/330 [==============================] - ETA: 0s - loss: 2.8480e-04"
     ]
    },
    {
     "name": "stderr",
     "output_type": "stream",
     "text": [
      "WARNING:absl:Found untraced functions such as _jit_compiled_convolution_op, _jit_compiled_convolution_op, _jit_compiled_convolution_op, _jit_compiled_convolution_op while saving (showing 4 of 4). These functions will not be directly callable after loading.\n"
     ]
    },
    {
     "name": "stdout",
     "output_type": "stream",
     "text": [
      "INFO:tensorflow:Assets written to: /tmp/checkpoint/f1-2\\assets\n"
     ]
    },
    {
     "name": "stderr",
     "output_type": "stream",
     "text": [
      "INFO:tensorflow:Assets written to: /tmp/checkpoint/f1-2\\assets\n"
     ]
    },
    {
     "name": "stdout",
     "output_type": "stream",
     "text": [
      "330/330 [==============================] - 108s 326ms/step - loss: 2.8480e-04 - val_loss: 2.8881e-04 - lr: 5.0000e-06\n",
      "Epoch 2/100\n",
      "330/330 [==============================] - ETA: 0s - loss: 2.8437e-04"
     ]
    },
    {
     "name": "stderr",
     "output_type": "stream",
     "text": [
      "WARNING:absl:Found untraced functions such as _jit_compiled_convolution_op, _jit_compiled_convolution_op, _jit_compiled_convolution_op, _jit_compiled_convolution_op while saving (showing 4 of 4). These functions will not be directly callable after loading.\n"
     ]
    },
    {
     "name": "stdout",
     "output_type": "stream",
     "text": [
      "INFO:tensorflow:Assets written to: /tmp/checkpoint/f1-2\\assets\n"
     ]
    },
    {
     "name": "stderr",
     "output_type": "stream",
     "text": [
      "INFO:tensorflow:Assets written to: /tmp/checkpoint/f1-2\\assets\n"
     ]
    },
    {
     "name": "stdout",
     "output_type": "stream",
     "text": [
      "330/330 [==============================] - 106s 322ms/step - loss: 2.8437e-04 - val_loss: 2.8854e-04 - lr: 5.0000e-06\n",
      "Epoch 3/100\n",
      "330/330 [==============================] - 106s 322ms/step - loss: 2.8399e-04 - val_loss: 2.8893e-04 - lr: 5.0000e-06\n",
      "Epoch 4/100\n",
      "330/330 [==============================] - 107s 323ms/step - loss: 2.8366e-04 - val_loss: 2.8913e-04 - lr: 5.0000e-06\n",
      "Epoch 5/100\n",
      "330/330 [==============================] - 108s 328ms/step - loss: 2.8339e-04 - val_loss: 2.8907e-04 - lr: 5.0000e-06\n",
      "Epoch 6/100\n",
      "330/330 [==============================] - 103s 313ms/step - loss: 2.8309e-04 - val_loss: 2.8940e-04 - lr: 5.0000e-06\n",
      "Epoch 7/100\n",
      "330/330 [==============================] - 102s 309ms/step - loss: 2.8276e-04 - val_loss: 2.8987e-04 - lr: 5.0000e-06\n",
      "Epoch 8/100\n",
      "330/330 [==============================] - 105s 319ms/step - loss: 2.8248e-04 - val_loss: 2.8956e-04 - lr: 5.0000e-06\n",
      "Epoch 9/100\n",
      "330/330 [==============================] - 104s 315ms/step - loss: 2.8224e-04 - val_loss: 2.8996e-04 - lr: 5.0000e-06\n",
      "Epoch 10/100\n",
      "330/330 [==============================] - 107s 324ms/step - loss: 2.8200e-04 - val_loss: 2.8964e-04 - lr: 5.0000e-06\n",
      "Epoch 11/100\n",
      "330/330 [==============================] - 104s 314ms/step - loss: 2.8175e-04 - val_loss: 2.9004e-04 - lr: 5.0000e-06\n",
      "Epoch 12/100\n",
      "330/330 [==============================] - 107s 324ms/step - loss: 2.8112e-04 - val_loss: 2.8992e-04 - lr: 5.0000e-07\n",
      "Epoch 13/100\n",
      "330/330 [==============================] - 107s 325ms/step - loss: 2.8107e-04 - val_loss: 2.8998e-04 - lr: 5.0000e-07\n",
      "Epoch 14/100\n",
      "330/330 [==============================] - 109s 329ms/step - loss: 2.8104e-04 - val_loss: 2.8999e-04 - lr: 5.0000e-07\n",
      "Epoch 15/100\n",
      "330/330 [==============================] - 109s 329ms/step - loss: 2.8102e-04 - val_loss: 2.9002e-04 - lr: 5.0000e-07\n",
      "Epoch 16/100\n",
      "330/330 [==============================] - 104s 316ms/step - loss: 2.8099e-04 - val_loss: 2.9004e-04 - lr: 5.0000e-07\n"
     ]
    },
    {
     "data": {
      "text/plain": [
       "<keras.callbacks.History at 0x2003e81fd90>"
      ]
     },
     "execution_count": 5,
     "metadata": {},
     "output_type": "execute_result"
    }
   ],
   "source": [
    "\"\"\"\n",
    "Training client 2 model\n",
    "\"\"\"\n",
    "checkpoint_filepath = '/tmp/checkpoint/f1-2/'\n",
    "model_checkpointing_callback = ModelCheckpoint(\n",
    "    filepath=checkpoint_filepath,\n",
    "    save_best_only=True,\n",
    ")\n",
    "client2_model.fit(client2_x, client2y,\n",
    "          batch_size=2048,\n",
    "          epochs=100,\n",
    "          verbose=1,\n",
    "          validation_split=0.1,\n",
    "          callbacks=[callbacks.ReduceLROnPlateau(monitor='loss', patience=10),\n",
    "                     callbacks.EarlyStopping(monitor='loss', patience=15, min_delta=1e-4), model_checkpointing_callback])\n"
   ]
  },
  {
   "cell_type": "code",
   "execution_count": 6,
   "metadata": {},
   "outputs": [],
   "source": [
    "\"\"\"\n",
    "Aggregrate models\n",
    "\"\"\"\n",
    "\n",
    "client1_weights = client1_model.get_weights()\n",
    "client2_weights = client2_model.get_weights()\n",
    "\n",
    "client1_weights = numpy.array(client1_weights, dtype=object)\n",
    "client2_weights = numpy.array(client2_weights, dtype=object)\n",
    "\n",
    "client1_weights = 1/2 * client1_weights\n",
    "client2_weights = 1/2 * client2_weights\n",
    "\n",
    "aggregated_weights = numpy.add(client1_weights,client2_weights)\n",
    "\n",
    "client1_model.set_weights(aggregated_weights)\n",
    "client1_model.save_weights(\"model_weight/federated1_weights\", save_format=\"h5\")"
   ]
  }
 ],
 "metadata": {
  "accelerator": "GPU",
  "colab": {
   "collapsed_sections": [],
   "name": "Chess AI",
   "private_outputs": true,
   "provenance": []
  },
  "interpreter": {
   "hash": "7e7666bfb430d4514d1195031d15ccf80594a969647ade4f9e6074d5049c6fab"
  },
  "kernelspec": {
   "display_name": "Python 3",
   "language": "python",
   "name": "python3"
  },
  "language_info": {
   "codemirror_mode": {
    "name": "ipython",
    "version": 3
   },
   "file_extension": ".py",
   "mimetype": "text/x-python",
   "name": "python",
   "nbconvert_exporter": "python",
   "pygments_lexer": "ipython3",
   "version": "3.8.5"
  }
 },
 "nbformat": 4,
 "nbformat_minor": 1
}
