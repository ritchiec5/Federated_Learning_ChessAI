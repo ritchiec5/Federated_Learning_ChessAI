{
 "cells": [
  {
   "cell_type": "markdown",
   "metadata": {
    "id": "ukmA7z-dlB6m"
   },
   "source": [
    "# TensorFlow!"
   ]
  },
  {
   "cell_type": "code",
   "execution_count": 1,
   "metadata": {
    "id": "6S7QNZqwmBOP"
   },
   "outputs": [],
   "source": [
    "import tensorflow\n",
    "import tensorflow.keras.models as models\n",
    "import tensorflow.keras.layers as layers\n",
    "import tensorflow.keras.utils as utils\n",
    "import tensorflow.keras.optimizers as optimizers\n",
    "\n",
    "client1_model = tensorflow.keras.models.load_model(\n",
    "    'model_weight/global_model.h5')\n",
    "client2_model = tensorflow.keras.models.load_model(\n",
    "    'model_weight/global_model.h5')\n",
    "client3_model = tensorflow.keras.models.load_model(\n",
    "    'model_weight/global_model.h5')\n",
    "client4_model = tensorflow.keras.models.load_model(\n",
    "    'model_weight/global_model.h5')"
   ]
  },
  {
   "cell_type": "markdown",
   "metadata": {
    "id": "ck79-w2ZxwVB"
   },
   "source": [
    "# It's training time!"
   ]
  },
  {
   "cell_type": "code",
   "execution_count": 2,
   "metadata": {
    "cellView": "both",
    "id": "CkOXxmoVyHdc"
   },
   "outputs": [],
   "source": [
    "import numpy\n",
    "import tensorflow.keras.callbacks as callbacks\n",
    "\n",
    "\n",
    "def get_dataset():\n",
    "\tcontainer = numpy.load('dataset.npz') # Download dataset.npz from the link in Readme.md\n",
    "\tb, v = container['b'], container['v']\n",
    "\tv = numpy.asarray(v / abs(v).max() / 2 + 0.5, dtype=numpy.float32) # normalization (0 - 1)\n",
    "\treturn b, v\n",
    "\n",
    "x_train, y_train = get_dataset()"
   ]
  },
  {
   "cell_type": "code",
   "execution_count": 3,
   "metadata": {},
   "outputs": [],
   "source": [
    "# Split dataset for two clients\n",
    "# pip install -U scikit-learn\n",
    "from sklearn.model_selection import train_test_split\n",
    "\n",
    "client1_x, client2_x, client1_y, client2y = train_test_split(x_train, y_train, test_size=0.50, random_state=100)"
   ]
  },
  {
   "cell_type": "code",
   "execution_count": 4,
   "metadata": {},
   "outputs": [],
   "source": [
    "# Dellocate variable to save RAM space\n",
    "del x_train\n",
    "del y_train"
   ]
  },
  {
   "cell_type": "code",
   "execution_count": 5,
   "metadata": {},
   "outputs": [],
   "source": [
    "client1_X, client2_X, client1_Y, client2_Y = train_test_split(\n",
    "    client1_x, client1_y, test_size=0.5, random_state=100)\n",
    "client3_X, client4_X, client3_Y, client4_Y = train_test_split(\n",
    "    client2_x, client2y, test_size=0.5, random_state=100)\n"
   ]
  },
  {
   "cell_type": "code",
   "execution_count": 6,
   "metadata": {},
   "outputs": [
    {
     "name": "stdout",
     "output_type": "stream",
     "text": [
      "Epoch 1/100\n",
      "165/165 [==============================] - 66s 398ms/step - loss: 2.8582e-04 - val_loss: 2.7372e-04 - lr: 5.0000e-06\n",
      "Epoch 2/100\n",
      "165/165 [==============================] - 71s 432ms/step - loss: 2.8509e-04 - val_loss: 2.7385e-04 - lr: 5.0000e-06\n",
      "Epoch 3/100\n",
      "165/165 [==============================] - 67s 405ms/step - loss: 2.8459e-04 - val_loss: 2.7425e-04 - lr: 5.0000e-06\n",
      "Epoch 4/100\n",
      "165/165 [==============================] - 63s 380ms/step - loss: 2.8412e-04 - val_loss: 2.7451e-04 - lr: 5.0000e-06\n",
      "Epoch 5/100\n",
      "165/165 [==============================] - 63s 383ms/step - loss: 2.8370e-04 - val_loss: 2.7449e-04 - lr: 5.0000e-06\n",
      "Epoch 6/100\n",
      "165/165 [==============================] - 64s 387ms/step - loss: 2.8325e-04 - val_loss: 2.7473e-04 - lr: 5.0000e-06\n",
      "Epoch 7/100\n",
      "165/165 [==============================] - 65s 395ms/step - loss: 2.8281e-04 - val_loss: 2.7509e-04 - lr: 5.0000e-06\n",
      "Epoch 8/100\n",
      "165/165 [==============================] - 62s 375ms/step - loss: 2.8254e-04 - val_loss: 2.7479e-04 - lr: 5.0000e-06\n",
      "Epoch 9/100\n",
      "165/165 [==============================] - 63s 379ms/step - loss: 2.8217e-04 - val_loss: 2.7510e-04 - lr: 5.0000e-06\n",
      "Epoch 10/100\n",
      "165/165 [==============================] - 62s 375ms/step - loss: 2.8179e-04 - val_loss: 2.7506e-04 - lr: 5.0000e-06\n",
      "Epoch 11/100\n",
      "165/165 [==============================] - 62s 374ms/step - loss: 2.8148e-04 - val_loss: 2.7544e-04 - lr: 5.0000e-06\n",
      "Epoch 12/100\n",
      "165/165 [==============================] - 63s 384ms/step - loss: 2.8075e-04 - val_loss: 2.7525e-04 - lr: 5.0000e-07\n",
      "Epoch 13/100\n",
      "165/165 [==============================] - 61s 369ms/step - loss: 2.8070e-04 - val_loss: 2.7526e-04 - lr: 5.0000e-07\n",
      "Epoch 14/100\n",
      "165/165 [==============================] - 60s 361ms/step - loss: 2.8065e-04 - val_loss: 2.7527e-04 - lr: 5.0000e-07\n",
      "Epoch 15/100\n",
      "165/165 [==============================] - 60s 365ms/step - loss: 2.8063e-04 - val_loss: 2.7528e-04 - lr: 5.0000e-07\n",
      "Epoch 16/100\n",
      "165/165 [==============================] - 60s 361ms/step - loss: 2.8059e-04 - val_loss: 2.7527e-04 - lr: 5.0000e-07\n"
     ]
    },
    {
     "data": {
      "text/plain": [
       "<keras.callbacks.History at 0x23ceac66190>"
      ]
     },
     "execution_count": 6,
     "metadata": {},
     "output_type": "execute_result"
    }
   ],
   "source": [
    "\"\"\"\n",
    "Training client 1 model\n",
    "\"\"\"\n",
    "from tensorflow.keras.callbacks import ModelCheckpoint\n",
    "\n",
    "client1_model.fit(client1_X, client1_Y,\n",
    "          batch_size=2048,\n",
    "          epochs=100,\n",
    "          verbose=1,\n",
    "          validation_split=0.1,\n",
    "          callbacks=[callbacks.ReduceLROnPlateau(monitor='loss', patience=10),\n",
    "                     callbacks.EarlyStopping(monitor='loss', patience=15, min_delta=1e-4)])\n"
   ]
  },
  {
   "cell_type": "code",
   "execution_count": 9,
   "metadata": {},
   "outputs": [],
   "source": [
    "client1_model.save_weights(\"client1weights\", save_format=\"h5\")"
   ]
  },
  {
   "cell_type": "code",
   "execution_count": 10,
   "metadata": {
    "id": "RyOYq9mv2ppC"
   },
   "outputs": [
    {
     "name": "stdout",
     "output_type": "stream",
     "text": [
      "Epoch 1/100\n",
      "165/165 [==============================] - 65s 394ms/step - loss: 2.7639e-04 - val_loss: 2.8701e-04 - lr: 5.0000e-07\n",
      "Epoch 2/100\n",
      "165/165 [==============================] - 65s 396ms/step - loss: 2.7636e-04 - val_loss: 2.8701e-04 - lr: 5.0000e-07\n",
      "Epoch 3/100\n",
      "165/165 [==============================] - 64s 390ms/step - loss: 2.7633e-04 - val_loss: 2.8703e-04 - lr: 5.0000e-07\n",
      "Epoch 4/100\n",
      "165/165 [==============================] - 65s 395ms/step - loss: 2.7630e-04 - val_loss: 2.8703e-04 - lr: 5.0000e-07\n",
      "Epoch 5/100\n",
      "165/165 [==============================] - 71s 433ms/step - loss: 2.7627e-04 - val_loss: 2.8704e-04 - lr: 5.0000e-07\n",
      "Epoch 6/100\n",
      "165/165 [==============================] - 66s 399ms/step - loss: 2.7623e-04 - val_loss: 2.8704e-04 - lr: 5.0000e-07\n",
      "Epoch 7/100\n",
      "165/165 [==============================] - 65s 396ms/step - loss: 2.7620e-04 - val_loss: 2.8705e-04 - lr: 5.0000e-07\n",
      "Epoch 8/100\n",
      "165/165 [==============================] - 66s 399ms/step - loss: 2.7617e-04 - val_loss: 2.8708e-04 - lr: 5.0000e-07\n",
      "Epoch 9/100\n",
      "165/165 [==============================] - 66s 400ms/step - loss: 2.7614e-04 - val_loss: 2.8708e-04 - lr: 5.0000e-07\n",
      "Epoch 10/100\n",
      "165/165 [==============================] - 67s 404ms/step - loss: 2.7611e-04 - val_loss: 2.8711e-04 - lr: 5.0000e-07\n",
      "Epoch 11/100\n",
      "165/165 [==============================] - 66s 399ms/step - loss: 2.7607e-04 - val_loss: 2.8710e-04 - lr: 5.0000e-07\n",
      "Epoch 12/100\n",
      "165/165 [==============================] - 66s 399ms/step - loss: 2.7600e-04 - val_loss: 2.8710e-04 - lr: 5.0000e-08\n",
      "Epoch 13/100\n",
      "165/165 [==============================] - 65s 397ms/step - loss: 2.7599e-04 - val_loss: 2.8710e-04 - lr: 5.0000e-08\n",
      "Epoch 14/100\n",
      "165/165 [==============================] - 66s 398ms/step - loss: 2.7599e-04 - val_loss: 2.8711e-04 - lr: 5.0000e-08\n",
      "Epoch 15/100\n",
      "165/165 [==============================] - 65s 397ms/step - loss: 2.7599e-04 - val_loss: 2.8711e-04 - lr: 5.0000e-08\n",
      "Epoch 16/100\n",
      "165/165 [==============================] - 66s 399ms/step - loss: 2.7598e-04 - val_loss: 2.8711e-04 - lr: 5.0000e-08\n"
     ]
    },
    {
     "data": {
      "text/plain": [
       "<keras.callbacks.History at 0x23d65522f40>"
      ]
     },
     "execution_count": 10,
     "metadata": {},
     "output_type": "execute_result"
    }
   ],
   "source": [
    "\"\"\"\n",
    "Training client 2 model\n",
    "\"\"\"\n",
    "\n",
    "client2_model.fit(client2_X, client2_Y,\n",
    "          batch_size=2048,\n",
    "          epochs=100,\n",
    "          verbose=1,\n",
    "          validation_split=0.1,\n",
    "          callbacks=[callbacks.ReduceLROnPlateau(monitor='loss', patience=10),\n",
    "                     callbacks.EarlyStopping(monitor='loss', patience=15, min_delta=1e-4)])\n"
   ]
  },
  {
   "cell_type": "code",
   "execution_count": 11,
   "metadata": {},
   "outputs": [],
   "source": [
    "client2_model.save_weights(\"client2weights\", save_format=\"h5\")"
   ]
  },
  {
   "cell_type": "code",
   "execution_count": 12,
   "metadata": {},
   "outputs": [
    {
     "name": "stdout",
     "output_type": "stream",
     "text": [
      "Epoch 1/100\n",
      "165/165 [==============================] - 65s 394ms/step - loss: 2.8664e-04 - val_loss: 2.8336e-04 - lr: 5.0000e-06\n",
      "Epoch 2/100\n",
      "165/165 [==============================] - 65s 395ms/step - loss: 2.8590e-04 - val_loss: 2.8340e-04 - lr: 5.0000e-06\n",
      "Epoch 3/100\n",
      "165/165 [==============================] - 65s 396ms/step - loss: 2.8533e-04 - val_loss: 2.8371e-04 - lr: 5.0000e-06\n",
      "Epoch 4/100\n",
      "165/165 [==============================] - 65s 396ms/step - loss: 2.8489e-04 - val_loss: 2.8390e-04 - lr: 5.0000e-06\n",
      "Epoch 5/100\n",
      "165/165 [==============================] - 66s 400ms/step - loss: 2.8443e-04 - val_loss: 2.8399e-04 - lr: 5.0000e-06\n",
      "Epoch 6/100\n",
      "165/165 [==============================] - 66s 397ms/step - loss: 2.8410e-04 - val_loss: 2.8409e-04 - lr: 5.0000e-06\n",
      "Epoch 7/100\n",
      "165/165 [==============================] - 65s 394ms/step - loss: 2.8357e-04 - val_loss: 2.8454e-04 - lr: 5.0000e-06\n",
      "Epoch 8/100\n",
      "165/165 [==============================] - 65s 395ms/step - loss: 2.8325e-04 - val_loss: 2.8440e-04 - lr: 5.0000e-06\n",
      "Epoch 9/100\n",
      "165/165 [==============================] - 65s 396ms/step - loss: 2.8284e-04 - val_loss: 2.8472e-04 - lr: 5.0000e-06\n",
      "Epoch 10/100\n",
      "165/165 [==============================] - 65s 394ms/step - loss: 2.8248e-04 - val_loss: 2.8473e-04 - lr: 5.0000e-06\n",
      "Epoch 11/100\n",
      "165/165 [==============================] - 65s 395ms/step - loss: 2.8218e-04 - val_loss: 2.8506e-04 - lr: 5.0000e-06\n",
      "Epoch 12/100\n",
      "165/165 [==============================] - 65s 395ms/step - loss: 2.8150e-04 - val_loss: 2.8499e-04 - lr: 5.0000e-07\n",
      "Epoch 13/100\n",
      "165/165 [==============================] - 65s 397ms/step - loss: 2.8142e-04 - val_loss: 2.8495e-04 - lr: 5.0000e-07\n",
      "Epoch 14/100\n",
      "165/165 [==============================] - 66s 399ms/step - loss: 2.8139e-04 - val_loss: 2.8494e-04 - lr: 5.0000e-07\n",
      "Epoch 15/100\n",
      "165/165 [==============================] - 64s 386ms/step - loss: 2.8134e-04 - val_loss: 2.8495e-04 - lr: 5.0000e-07\n",
      "Epoch 16/100\n",
      "165/165 [==============================] - 63s 380ms/step - loss: 2.8131e-04 - val_loss: 2.8494e-04 - lr: 5.0000e-07\n"
     ]
    },
    {
     "data": {
      "text/plain": [
       "<keras.callbacks.History at 0x23d65540490>"
      ]
     },
     "execution_count": 12,
     "metadata": {},
     "output_type": "execute_result"
    }
   ],
   "source": [
    "\"\"\"\n",
    "Training client 3 model\n",
    "\"\"\"\n",
    "from tensorflow.keras.callbacks import ModelCheckpoint\n",
    "\n",
    "client3_model.fit(client3_X, client3_Y,\n",
    "          batch_size=2048,\n",
    "          epochs=100,\n",
    "          verbose=1,\n",
    "          validation_split=0.1,\n",
    "          callbacks=[callbacks.ReduceLROnPlateau(monitor='loss', patience=10),\n",
    "                     callbacks.EarlyStopping(monitor='loss', patience=15, min_delta=1e-4)])\n"
   ]
  },
  {
   "cell_type": "code",
   "execution_count": 13,
   "metadata": {},
   "outputs": [],
   "source": [
    "client3_model.save_weights(\"client3weights\", save_format=\"h5\")"
   ]
  },
  {
   "cell_type": "code",
   "execution_count": 14,
   "metadata": {},
   "outputs": [
    {
     "name": "stdout",
     "output_type": "stream",
     "text": [
      "Epoch 1/100\n",
      "165/165 [==============================] - 65s 394ms/step - loss: 2.8382e-04 - val_loss: 2.8467e-04 - lr: 5.0000e-06\n",
      "Epoch 2/100\n",
      "165/165 [==============================] - 65s 393ms/step - loss: 2.8308e-04 - val_loss: 2.8516e-04 - lr: 5.0000e-06\n",
      "Epoch 3/100\n",
      "165/165 [==============================] - 66s 401ms/step - loss: 2.8260e-04 - val_loss: 2.8521e-04 - lr: 5.0000e-06\n",
      "Epoch 4/100\n",
      "165/165 [==============================] - 65s 397ms/step - loss: 2.8216e-04 - val_loss: 2.8504e-04 - lr: 5.0000e-06\n",
      "Epoch 5/100\n",
      "165/165 [==============================] - 65s 393ms/step - loss: 2.8174e-04 - val_loss: 2.8545e-04 - lr: 5.0000e-06\n",
      "Epoch 6/100\n",
      "165/165 [==============================] - 65s 394ms/step - loss: 2.8135e-04 - val_loss: 2.8585e-04 - lr: 5.0000e-06\n",
      "Epoch 7/100\n",
      "165/165 [==============================] - 65s 393ms/step - loss: 2.8096e-04 - val_loss: 2.8585e-04 - lr: 5.0000e-06\n",
      "Epoch 8/100\n",
      "165/165 [==============================] - 65s 396ms/step - loss: 2.8064e-04 - val_loss: 2.8612e-04 - lr: 5.0000e-06\n",
      "Epoch 9/100\n",
      "165/165 [==============================] - 65s 394ms/step - loss: 2.8022e-04 - val_loss: 2.8613e-04 - lr: 5.0000e-06\n",
      "Epoch 10/100\n",
      "165/165 [==============================] - 65s 395ms/step - loss: 2.7987e-04 - val_loss: 2.8608e-04 - lr: 5.0000e-06\n",
      "Epoch 11/100\n",
      "165/165 [==============================] - 65s 394ms/step - loss: 2.7963e-04 - val_loss: 2.8632e-04 - lr: 5.0000e-06\n",
      "Epoch 12/100\n",
      "165/165 [==============================] - 66s 399ms/step - loss: 2.7890e-04 - val_loss: 2.8624e-04 - lr: 5.0000e-07\n",
      "Epoch 13/100\n",
      "165/165 [==============================] - 65s 394ms/step - loss: 2.7884e-04 - val_loss: 2.8623e-04 - lr: 5.0000e-07\n",
      "Epoch 14/100\n",
      "165/165 [==============================] - 65s 394ms/step - loss: 2.7880e-04 - val_loss: 2.8621e-04 - lr: 5.0000e-07\n",
      "Epoch 15/100\n",
      "165/165 [==============================] - 65s 393ms/step - loss: 2.7876e-04 - val_loss: 2.8621e-04 - lr: 5.0000e-07\n",
      "Epoch 16/100\n",
      "165/165 [==============================] - 64s 386ms/step - loss: 2.7873e-04 - val_loss: 2.8620e-04 - lr: 5.0000e-07\n"
     ]
    },
    {
     "data": {
      "text/plain": [
       "<keras.callbacks.History at 0x23d65606ca0>"
      ]
     },
     "execution_count": 14,
     "metadata": {},
     "output_type": "execute_result"
    }
   ],
   "source": [
    "\"\"\"\n",
    "Training client 4 model\n",
    "\"\"\"\n",
    "from tensorflow.keras.callbacks import ModelCheckpoint\n",
    "client4_model = tensorflow.keras.models.load_model(\n",
    "    'model_weight/global_model.h5')\n",
    "client4_model.fit(client4_X, client4_Y,\n",
    "          batch_size=2048,\n",
    "          epochs=100,\n",
    "          verbose=1,\n",
    "          validation_split=0.1,\n",
    "          callbacks=[callbacks.ReduceLROnPlateau(monitor='loss', patience=10),\n",
    "                     callbacks.EarlyStopping(monitor='loss', patience=15, min_delta=1e-4)])\n"
   ]
  },
  {
   "cell_type": "code",
   "execution_count": null,
   "metadata": {},
   "outputs": [],
   "source": [
    "client4_model.save_weights(\"client4weights\", save_format=\"h5\")"
   ]
  },
  {
   "cell_type": "code",
   "execution_count": null,
   "metadata": {},
   "outputs": [],
   "source": [
    "\"\"\"\n",
    "Aggregrate models\n",
    "\"\"\"\n",
    "client1_model.load_weights(\"client1weights\")\n",
    "client1_model.load_weights(\"client2weights\")\n",
    "client1_model.load_weights(\"client3weights\")\n",
    "client1_model.load_weights(\"client4weights\")\n",
    "\n",
    "client1_weights = client1_model.get_weights()\n",
    "client2_weights = client2_model.get_weights()\n",
    "client3_weights = client3_model.get_weights()\n",
    "client4_weights = client4_model.get_weights()\n",
    "\n",
    "\n",
    "client1_weights = numpy.array(client1_weights, dtype=object)\n",
    "client2_weights = numpy.array(client2_weights, dtype=object)\n",
    "client3_weights = numpy.array(client3_weights, dtype=object)\n",
    "client4_weights = numpy.array(client4_weights, dtype=object)\n",
    "\n",
    "\n",
    "client1_weights = 1/4 * client1_weights\n",
    "client2_weights = 1/4 * client2_weights\n",
    "client3_weights = 1/4 * client3_weights\n",
    "client4_weights = 1/4 * client4_weights\n",
    "\n",
    "aggregated_weights = numpy.add(client1_weights,client2_weights)\n",
    "aggregated_weights = numpy.add(aggregated_weights, client3_weights)\n",
    "aggregated_weights = numpy.add(aggregated_weights, client4_weights)\n",
    "\n",
    "client1_model.set_weights(aggregated_weights)\n",
    "client1_model.save_weights(\"model_weight/federated3_weights\", save_format=\"h5\")\n"
   ]
  },
  {
   "cell_type": "code",
   "execution_count": null,
   "metadata": {},
   "outputs": [],
   "source": []
  }
 ],
 "metadata": {
  "accelerator": "GPU",
  "colab": {
   "collapsed_sections": [],
   "name": "Chess AI",
   "private_outputs": true,
   "provenance": []
  },
  "interpreter": {
   "hash": "7e7666bfb430d4514d1195031d15ccf80594a969647ade4f9e6074d5049c6fab"
  },
  "kernelspec": {
   "display_name": "Python 3",
   "language": "python",
   "name": "python3"
  },
  "language_info": {
   "codemirror_mode": {
    "name": "ipython",
    "version": 3
   },
   "file_extension": ".py",
   "mimetype": "text/x-python",
   "name": "python",
   "nbconvert_exporter": "python",
   "pygments_lexer": "ipython3",
   "version": "3.8.5"
  }
 },
 "nbformat": 4,
 "nbformat_minor": 1
}
