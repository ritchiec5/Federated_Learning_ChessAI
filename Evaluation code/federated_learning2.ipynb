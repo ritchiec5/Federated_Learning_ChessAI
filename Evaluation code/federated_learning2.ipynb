{
 "cells": [
  {
   "cell_type": "markdown",
   "metadata": {
    "id": "ukmA7z-dlB6m"
   },
   "source": [
    "# TensorFlow!"
   ]
  },
  {
   "cell_type": "code",
   "execution_count": 1,
   "metadata": {
    "id": "6S7QNZqwmBOP"
   },
   "outputs": [],
   "source": [
    "import tensorflow\n",
    "import tensorflow.keras.models as models\n",
    "import tensorflow.keras.layers as layers\n",
    "import tensorflow.keras.utils as utils\n",
    "import tensorflow.keras.optimizers as optimizers\n",
    "\n",
    "client1_model = tensorflow.keras.models.load_model(\n",
    "    'model_weight/global_model.h5')\n",
    "client2_model = tensorflow.keras.models.load_model(\n",
    "    'model_weight/global_model.h5')\n",
    "client3_model = tensorflow.keras.models.load_model(\n",
    "    'model_weight/global_model.h5')"
   ]
  },
  {
   "cell_type": "markdown",
   "metadata": {
    "id": "ck79-w2ZxwVB"
   },
   "source": [
    "# It's training time!"
   ]
  },
  {
   "cell_type": "code",
   "execution_count": 2,
   "metadata": {
    "cellView": "both",
    "id": "CkOXxmoVyHdc"
   },
   "outputs": [],
   "source": [
    "import numpy\n",
    "import tensorflow.keras.callbacks as callbacks\n",
    "\n",
    "\n",
    "def get_dataset():\n",
    "\tcontainer = numpy.load('dataset.npz') # Download dataset.npz from the link in Readme.md\n",
    "\tb, v = container['b'], container['v']\n",
    "\tv = numpy.asarray(v / abs(v).max() / 2 + 0.5, dtype=numpy.float32) # normalization (0 - 1)\n",
    "\treturn b, v\n",
    "\n",
    "x_train, y_train = get_dataset()"
   ]
  },
  {
   "cell_type": "code",
   "execution_count": 3,
   "metadata": {},
   "outputs": [
    {
     "data": {
      "text/plain": [
       "495000"
      ]
     },
     "execution_count": 3,
     "metadata": {},
     "output_type": "execute_result"
    }
   ],
   "source": [
    "# Split dataset for two clients\n",
    "# pip install -U scikit-learn\n",
    "from sklearn.model_selection import train_test_split\n",
    "\n",
    "client1_x, client2_x, client1_y, client2y = train_test_split(x_train, y_train, test_size=0.33, random_state=100)\n",
    "len(client1_x)\n",
    "len(client2_x)"
   ]
  },
  {
   "cell_type": "code",
   "execution_count": 4,
   "metadata": {},
   "outputs": [],
   "source": [
    "# Dellocate variable to save RAM space\n",
    "del x_train\n",
    "del y_train"
   ]
  },
  {
   "cell_type": "code",
   "execution_count": 5,
   "metadata": {},
   "outputs": [
    {
     "name": "stdout",
     "output_type": "stream",
     "text": [
      "502500 495000 502500\n"
     ]
    }
   ],
   "source": [
    "client1_x, client3_x, client1_y, client3y = train_test_split(\n",
    "    client1_x, client1_y, test_size=0.5, random_state=100)\n",
    "print(len(client1_x), len(client2_x), len(client3_x))\n"
   ]
  },
  {
   "cell_type": "code",
   "execution_count": 6,
   "metadata": {},
   "outputs": [
    {
     "name": "stdout",
     "output_type": "stream",
     "text": [
      "Epoch 1/100\n",
      "221/221 [==============================] - ETA: 0s - loss: 2.8138e-04"
     ]
    },
    {
     "name": "stderr",
     "output_type": "stream",
     "text": [
      "WARNING:absl:Found untraced functions such as _jit_compiled_convolution_op, _jit_compiled_convolution_op, _jit_compiled_convolution_op, _jit_compiled_convolution_op while saving (showing 4 of 4). These functions will not be directly callable after loading.\n"
     ]
    },
    {
     "name": "stdout",
     "output_type": "stream",
     "text": [
      "INFO:tensorflow:Assets written to: /checkpoint/f2-1\\assets\n"
     ]
    },
    {
     "name": "stderr",
     "output_type": "stream",
     "text": [
      "INFO:tensorflow:Assets written to: /checkpoint/f2-1\\assets\n"
     ]
    },
    {
     "name": "stdout",
     "output_type": "stream",
     "text": [
      "221/221 [==============================] - 77s 344ms/step - loss: 2.8138e-04 - val_loss: 2.7824e-04 - lr: 5.0000e-06\n",
      "Epoch 2/100\n",
      "221/221 [==============================] - 73s 331ms/step - loss: 2.8082e-04 - val_loss: 2.7905e-04 - lr: 5.0000e-06\n",
      "Epoch 3/100\n",
      "221/221 [==============================] - 71s 323ms/step - loss: 2.8029e-04 - val_loss: 2.7859e-04 - lr: 5.0000e-06\n",
      "Epoch 4/100\n",
      "221/221 [==============================] - 71s 322ms/step - loss: 2.7998e-04 - val_loss: 2.7974e-04 - lr: 5.0000e-06\n",
      "Epoch 5/100\n",
      "221/221 [==============================] - 71s 322ms/step - loss: 2.7958e-04 - val_loss: 2.7949e-04 - lr: 5.0000e-06\n",
      "Epoch 6/100\n",
      "221/221 [==============================] - 72s 324ms/step - loss: 2.7927e-04 - val_loss: 2.7887e-04 - lr: 5.0000e-06\n",
      "Epoch 7/100\n",
      "221/221 [==============================] - 71s 322ms/step - loss: 2.7889e-04 - val_loss: 2.7949e-04 - lr: 5.0000e-06\n",
      "Epoch 8/100\n",
      "221/221 [==============================] - 71s 322ms/step - loss: 2.7851e-04 - val_loss: 2.7913e-04 - lr: 5.0000e-06\n",
      "Epoch 9/100\n",
      "221/221 [==============================] - 71s 322ms/step - loss: 2.7828e-04 - val_loss: 2.7975e-04 - lr: 5.0000e-06\n",
      "Epoch 10/100\n",
      "221/221 [==============================] - 72s 328ms/step - loss: 2.7802e-04 - val_loss: 2.7969e-04 - lr: 5.0000e-06\n",
      "Epoch 11/100\n",
      "221/221 [==============================] - 72s 324ms/step - loss: 2.7769e-04 - val_loss: 2.7932e-04 - lr: 5.0000e-06\n",
      "Epoch 12/100\n",
      "221/221 [==============================] - 71s 324ms/step - loss: 2.7703e-04 - val_loss: 2.7937e-04 - lr: 5.0000e-07\n",
      "Epoch 13/100\n",
      "221/221 [==============================] - 72s 325ms/step - loss: 2.7696e-04 - val_loss: 2.7948e-04 - lr: 5.0000e-07\n",
      "Epoch 14/100\n",
      "221/221 [==============================] - 72s 324ms/step - loss: 2.7692e-04 - val_loss: 2.7956e-04 - lr: 5.0000e-07\n",
      "Epoch 15/100\n",
      "221/221 [==============================] - 72s 324ms/step - loss: 2.7689e-04 - val_loss: 2.7961e-04 - lr: 5.0000e-07\n",
      "Epoch 16/100\n",
      "221/221 [==============================] - 72s 324ms/step - loss: 2.7686e-04 - val_loss: 2.7962e-04 - lr: 5.0000e-07\n"
     ]
    },
    {
     "data": {
      "text/plain": [
       "<keras.callbacks.History at 0x26405d657c0>"
      ]
     },
     "execution_count": 6,
     "metadata": {},
     "output_type": "execute_result"
    }
   ],
   "source": [
    "\"\"\"\n",
    "Training client 1 model\n",
    "\"\"\"\n",
    "from tensorflow.keras.callbacks import ModelCheckpoint\n",
    "\n",
    "checkpoint_filepath = '/checkpoint/f2-1/'\n",
    "model_checkpointing_callback = ModelCheckpoint(\n",
    "    filepath=checkpoint_filepath,\n",
    "    save_best_only=True,\n",
    ")\n",
    "client1_model.fit(client1_x, client1_y,\n",
    "          batch_size=2048,\n",
    "          epochs=100,\n",
    "          verbose=1,\n",
    "          validation_split=0.1,\n",
    "          callbacks=[callbacks.ReduceLROnPlateau(monitor='loss', patience=10),\n",
    "                     callbacks.EarlyStopping(monitor='loss', patience=15, min_delta=1e-4), model_checkpointing_callback])\n"
   ]
  },
  {
   "cell_type": "code",
   "execution_count": 7,
   "metadata": {
    "id": "RyOYq9mv2ppC"
   },
   "outputs": [
    {
     "name": "stdout",
     "output_type": "stream",
     "text": [
      "Epoch 1/100\n",
      "218/218 [==============================] - ETA: 0s - loss: 2.8701e-04"
     ]
    },
    {
     "name": "stderr",
     "output_type": "stream",
     "text": [
      "WARNING:absl:Found untraced functions such as _jit_compiled_convolution_op, _jit_compiled_convolution_op, _jit_compiled_convolution_op, _jit_compiled_convolution_op while saving (showing 4 of 4). These functions will not be directly callable after loading.\n"
     ]
    },
    {
     "name": "stdout",
     "output_type": "stream",
     "text": [
      "INFO:tensorflow:Assets written to: /checkpoint/f2-2\\assets\n"
     ]
    },
    {
     "name": "stderr",
     "output_type": "stream",
     "text": [
      "INFO:tensorflow:Assets written to: /checkpoint/f2-2\\assets\n"
     ]
    },
    {
     "name": "stdout",
     "output_type": "stream",
     "text": [
      "218/218 [==============================] - 71s 325ms/step - loss: 2.8701e-04 - val_loss: 2.7857e-04 - lr: 5.0000e-06\n",
      "Epoch 2/100\n",
      "218/218 [==============================] - 71s 323ms/step - loss: 2.8639e-04 - val_loss: 2.7874e-04 - lr: 5.0000e-06\n",
      "Epoch 3/100\n",
      "218/218 [==============================] - 71s 327ms/step - loss: 2.8593e-04 - val_loss: 2.7894e-04 - lr: 5.0000e-06\n",
      "Epoch 4/100\n",
      "218/218 [==============================] - 71s 325ms/step - loss: 2.8546e-04 - val_loss: 2.7911e-04 - lr: 5.0000e-06\n",
      "Epoch 5/100\n",
      "218/218 [==============================] - 71s 325ms/step - loss: 2.8509e-04 - val_loss: 2.7955e-04 - lr: 5.0000e-06\n",
      "Epoch 6/100\n",
      "218/218 [==============================] - 71s 325ms/step - loss: 2.8476e-04 - val_loss: 2.7951e-04 - lr: 5.0000e-06\n",
      "Epoch 7/100\n",
      "218/218 [==============================] - 71s 327ms/step - loss: 2.8435e-04 - val_loss: 2.7982e-04 - lr: 5.0000e-06\n",
      "Epoch 8/100\n",
      "218/218 [==============================] - 71s 324ms/step - loss: 2.8402e-04 - val_loss: 2.8018e-04 - lr: 5.0000e-06\n",
      "Epoch 9/100\n",
      "218/218 [==============================] - 72s 329ms/step - loss: 2.8367e-04 - val_loss: 2.8003e-04 - lr: 5.0000e-06\n",
      "Epoch 10/100\n",
      "218/218 [==============================] - 67s 307ms/step - loss: 2.8342e-04 - val_loss: 2.8034e-04 - lr: 5.0000e-06\n",
      "Epoch 11/100\n",
      "218/218 [==============================] - 75s 346ms/step - loss: 2.8310e-04 - val_loss: 2.8045e-04 - lr: 5.0000e-06\n",
      "Epoch 12/100\n",
      "218/218 [==============================] - 76s 350ms/step - loss: 2.8242e-04 - val_loss: 2.8037e-04 - lr: 5.0000e-07\n",
      "Epoch 13/100\n",
      "218/218 [==============================] - 76s 349ms/step - loss: 2.8237e-04 - val_loss: 2.8037e-04 - lr: 5.0000e-07\n",
      "Epoch 14/100\n",
      "218/218 [==============================] - 76s 350ms/step - loss: 2.8233e-04 - val_loss: 2.8037e-04 - lr: 5.0000e-07\n",
      "Epoch 15/100\n",
      "218/218 [==============================] - 78s 356ms/step - loss: 2.8231e-04 - val_loss: 2.8038e-04 - lr: 5.0000e-07\n",
      "Epoch 16/100\n",
      "218/218 [==============================] - 76s 349ms/step - loss: 2.8227e-04 - val_loss: 2.8040e-04 - lr: 5.0000e-07\n"
     ]
    },
    {
     "data": {
      "text/plain": [
       "<keras.callbacks.History at 0x2643e352f70>"
      ]
     },
     "execution_count": 7,
     "metadata": {},
     "output_type": "execute_result"
    }
   ],
   "source": [
    "\"\"\"\n",
    "Training client 2 model\n",
    "\"\"\"\n",
    "checkpoint_filepath = '/checkpoint/f2-2/'\n",
    "model_checkpointing_callback = ModelCheckpoint(\n",
    "    filepath=checkpoint_filepath,\n",
    "    save_best_only=True,\n",
    ")\n",
    "client2_model.fit(client2_x, client2y,\n",
    "          batch_size=2048,\n",
    "          epochs=100,\n",
    "          verbose=1,\n",
    "          validation_split=0.1,\n",
    "          callbacks=[callbacks.ReduceLROnPlateau(monitor='loss', patience=10),\n",
    "                     callbacks.EarlyStopping(monitor='loss', patience=15, min_delta=1e-4), model_checkpointing_callback])\n"
   ]
  },
  {
   "cell_type": "code",
   "execution_count": 8,
   "metadata": {},
   "outputs": [
    {
     "name": "stdout",
     "output_type": "stream",
     "text": [
      "Epoch 1/100\n",
      "221/221 [==============================] - ETA: 0s - loss: 2.8602e-04"
     ]
    },
    {
     "name": "stderr",
     "output_type": "stream",
     "text": [
      "WARNING:absl:Found untraced functions such as _jit_compiled_convolution_op, _jit_compiled_convolution_op, _jit_compiled_convolution_op, _jit_compiled_convolution_op while saving (showing 4 of 4). These functions will not be directly callable after loading.\n"
     ]
    },
    {
     "name": "stdout",
     "output_type": "stream",
     "text": [
      "INFO:tensorflow:Assets written to: /checkpoint/f2-3\\assets\n"
     ]
    },
    {
     "name": "stderr",
     "output_type": "stream",
     "text": [
      "INFO:tensorflow:Assets written to: /checkpoint/f2-3\\assets\n"
     ]
    },
    {
     "name": "stdout",
     "output_type": "stream",
     "text": [
      "221/221 [==============================] - 78s 351ms/step - loss: 2.8602e-04 - val_loss: 2.8209e-04 - lr: 5.0000e-06\n",
      "Epoch 2/100\n",
      "221/221 [==============================] - 72s 325ms/step - loss: 2.8543e-04 - val_loss: 2.8276e-04 - lr: 5.0000e-06\n",
      "Epoch 3/100\n",
      "221/221 [==============================] - 71s 323ms/step - loss: 2.8502e-04 - val_loss: 2.8241e-04 - lr: 5.0000e-06\n",
      "Epoch 4/100\n",
      "221/221 [==============================] - 71s 322ms/step - loss: 2.8459e-04 - val_loss: 2.8293e-04 - lr: 5.0000e-06\n",
      "Epoch 5/100\n",
      "221/221 [==============================] - 71s 323ms/step - loss: 2.8417e-04 - val_loss: 2.8314e-04 - lr: 5.0000e-06\n",
      "Epoch 6/100\n",
      "221/221 [==============================] - 71s 323ms/step - loss: 2.8381e-04 - val_loss: 2.8343e-04 - lr: 5.0000e-06\n",
      "Epoch 7/100\n",
      "221/221 [==============================] - 73s 329ms/step - loss: 2.8351e-04 - val_loss: 2.8326e-04 - lr: 5.0000e-06\n",
      "Epoch 8/100\n",
      "221/221 [==============================] - 72s 326ms/step - loss: 2.8314e-04 - val_loss: 2.8350e-04 - lr: 5.0000e-06\n",
      "Epoch 9/100\n",
      "221/221 [==============================] - 76s 343ms/step - loss: 2.8284e-04 - val_loss: 2.8354e-04 - lr: 5.0000e-06\n",
      "Epoch 10/100\n",
      "221/221 [==============================] - 68s 306ms/step - loss: 2.8249e-04 - val_loss: 2.8386e-04 - lr: 5.0000e-06\n",
      "Epoch 11/100\n",
      "221/221 [==============================] - 67s 302ms/step - loss: 2.8222e-04 - val_loss: 2.8375e-04 - lr: 5.0000e-06\n",
      "Epoch 12/100\n",
      "221/221 [==============================] - 67s 302ms/step - loss: 2.8154e-04 - val_loss: 2.8379e-04 - lr: 5.0000e-07\n",
      "Epoch 13/100\n",
      "221/221 [==============================] - 67s 302ms/step - loss: 2.8150e-04 - val_loss: 2.8383e-04 - lr: 5.0000e-07\n",
      "Epoch 14/100\n",
      "221/221 [==============================] - 67s 302ms/step - loss: 2.8145e-04 - val_loss: 2.8385e-04 - lr: 5.0000e-07\n",
      "Epoch 15/100\n",
      "221/221 [==============================] - 70s 317ms/step - loss: 2.8143e-04 - val_loss: 2.8386e-04 - lr: 5.0000e-07\n",
      "Epoch 16/100\n",
      "221/221 [==============================] - 72s 324ms/step - loss: 2.8139e-04 - val_loss: 2.8386e-04 - lr: 5.0000e-07\n"
     ]
    },
    {
     "data": {
      "text/plain": [
       "<keras.callbacks.History at 0x2643e57efa0>"
      ]
     },
     "execution_count": 8,
     "metadata": {},
     "output_type": "execute_result"
    }
   ],
   "source": [
    "\"\"\"\n",
    "Training client 3 model\n",
    "\"\"\"\n",
    "from tensorflow.keras.callbacks import ModelCheckpoint\n",
    "checkpoint_filepath = '/checkpoint/f2-3/'\n",
    "model_checkpointing_callback = ModelCheckpoint(\n",
    "    filepath=checkpoint_filepath,\n",
    "    save_best_only=True,\n",
    ")\n",
    "client3_model.fit(client3_x, client3y,\n",
    "          batch_size=2048,\n",
    "          epochs=100,\n",
    "          verbose=1,\n",
    "          validation_split=0.1,\n",
    "          callbacks=[callbacks.ReduceLROnPlateau(monitor='loss', patience=10),\n",
    "                     callbacks.EarlyStopping(monitor='loss', patience=15, min_delta=1e-4), model_checkpointing_callback])\n"
   ]
  },
  {
   "cell_type": "code",
   "execution_count": 9,
   "metadata": {},
   "outputs": [
    {
     "ename": "AttributeError",
     "evalue": "'numpy.ndarray' object has no attribute 'set_weights'",
     "output_type": "error",
     "traceback": [
      "\u001b[1;31m---------------------------------------------------------------------------\u001b[0m",
      "\u001b[1;31mAttributeError\u001b[0m                            Traceback (most recent call last)",
      "\u001b[1;32m<ipython-input-9-aaf89b472df3>\u001b[0m in \u001b[0;36m<module>\u001b[1;34m\u001b[0m\n\u001b[0;32m     18\u001b[0m \u001b[0maggregated_weights\u001b[0m \u001b[1;33m=\u001b[0m \u001b[0mnumpy\u001b[0m\u001b[1;33m.\u001b[0m\u001b[0madd\u001b[0m\u001b[1;33m(\u001b[0m\u001b[0maggregated_weights\u001b[0m\u001b[1;33m,\u001b[0m \u001b[0mclient3_weights\u001b[0m\u001b[1;33m)\u001b[0m\u001b[1;33m\u001b[0m\u001b[1;33m\u001b[0m\u001b[0m\n\u001b[0;32m     19\u001b[0m \u001b[1;33m\u001b[0m\u001b[0m\n\u001b[1;32m---> 20\u001b[1;33m \u001b[0mclient1_weights\u001b[0m\u001b[1;33m.\u001b[0m\u001b[0mset_weights\u001b[0m\u001b[1;33m(\u001b[0m\u001b[0maggregated_weights\u001b[0m\u001b[1;33m)\u001b[0m\u001b[1;33m\u001b[0m\u001b[1;33m\u001b[0m\u001b[0m\n\u001b[0m\u001b[0;32m     21\u001b[0m \u001b[0mclient1_weights\u001b[0m\u001b[1;33m.\u001b[0m\u001b[0msave_weights\u001b[0m\u001b[1;33m(\u001b[0m\u001b[1;34m\"model_weight/federated2_weights\"\u001b[0m\u001b[1;33m,\u001b[0m \u001b[0msave_format\u001b[0m\u001b[1;33m=\u001b[0m\u001b[1;34m\"h5\"\u001b[0m\u001b[1;33m)\u001b[0m\u001b[1;33m\u001b[0m\u001b[1;33m\u001b[0m\u001b[0m\n",
      "\u001b[1;31mAttributeError\u001b[0m: 'numpy.ndarray' object has no attribute 'set_weights'"
     ]
    }
   ],
   "source": [
    "\"\"\"\n",
    "Aggregrate models\n",
    "\"\"\"\n",
    "\n",
    "client1_weights = client1_model.get_weights()\n",
    "client2_weights = client2_model.get_weights()\n",
    "client3_weights = client3_model.get_weights()\n",
    "\n",
    "client1_weights = numpy.array(client1_weights, dtype=object)\n",
    "client2_weights = numpy.array(client2_weights, dtype=object)\n",
    "client3_weights = numpy.array(client3_weights, dtype=object)\n",
    "\n",
    "client1_weights = 1/3.35 * client1_weights\n",
    "client2_weights = 1/3.3 * client2_weights\n",
    "client3_weights = 1/3.35 * client3_weights\n",
    "\n",
    "aggregated_weights = numpy.add(client1_weights,client2_weights)\n",
    "aggregated_weights = numpy.add(aggregated_weights, client3_weights)\n",
    "\n",
    "client1_model.set_weights(aggregated_weights)\n",
    "client1_model.save_weights(\"model_weight/federated2_weights\", save_format=\"h5\")\n"
   ]
  }
 ],
 "metadata": {
  "accelerator": "GPU",
  "colab": {
   "collapsed_sections": [],
   "name": "Chess AI",
   "private_outputs": true,
   "provenance": []
  },
  "interpreter": {
   "hash": "7e7666bfb430d4514d1195031d15ccf80594a969647ade4f9e6074d5049c6fab"
  },
  "kernelspec": {
   "display_name": "Python 3",
   "language": "python",
   "name": "python3"
  },
  "language_info": {
   "codemirror_mode": {
    "name": "ipython",
    "version": 3
   },
   "file_extension": ".py",
   "mimetype": "text/x-python",
   "name": "python",
   "nbconvert_exporter": "python",
   "pygments_lexer": "ipython3",
   "version": "3.8.5"
  }
 },
 "nbformat": 4,
 "nbformat_minor": 1
}
