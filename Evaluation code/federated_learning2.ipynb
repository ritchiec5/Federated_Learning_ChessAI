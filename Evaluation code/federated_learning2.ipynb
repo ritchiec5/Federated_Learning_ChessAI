{
 "cells": [
  {
   "cell_type": "markdown",
   "metadata": {
    "id": "ukmA7z-dlB6m"
   },
   "source": [
    "# TensorFlow!"
   ]
  },
  {
   "cell_type": "code",
   "execution_count": 1,
   "metadata": {
    "id": "6S7QNZqwmBOP"
   },
   "outputs": [],
   "source": [
    "import tensorflow\n",
    "import tensorflow.keras.models as models\n",
    "import tensorflow.keras.layers as layers\n",
    "import tensorflow.keras.utils as utils\n",
    "import tensorflow.keras.optimizers as optimizers\n",
    "\n",
    "client1_model = tensorflow.keras.models.load_model(\n",
    "    'model_weight/global_model.h5')\n",
    "client2_model = tensorflow.keras.models.load_model(\n",
    "    'model_weight/global_model.h5')\n",
    "client3_model = tensorflow.keras.models.load_model(\n",
    "    'model_weight/global_model.h5')"
   ]
  },
  {
   "cell_type": "markdown",
   "metadata": {
    "id": "ck79-w2ZxwVB"
   },
   "source": [
    "# It's training time!"
   ]
  },
  {
   "cell_type": "code",
   "execution_count": 1,
   "metadata": {
    "cellView": "both",
    "id": "CkOXxmoVyHdc"
   },
   "outputs": [],
   "source": [
    "import numpy\n",
    "import tensorflow.keras.callbacks as callbacks\n",
    "\n",
    "\n",
    "def get_dataset():\n",
    "\tcontainer = numpy.load('dataset.npz') # Download dataset.npz from the link in Readme.md\n",
    "\tb, v = container['b'], container['v']\n",
    "\tv = numpy.asarray(v / abs(v).max() / 2 + 0.5, dtype=numpy.float32) # normalization (0 - 1)\n",
    "\treturn b, v\n",
    "\n",
    "x_train, y_train = get_dataset()"
   ]
  },
  {
   "cell_type": "code",
   "execution_count": 2,
   "metadata": {},
   "outputs": [
    {
     "data": {
      "text/plain": [
       "495000"
      ]
     },
     "execution_count": 2,
     "metadata": {},
     "output_type": "execute_result"
    }
   ],
   "source": [
    "# Split dataset for two clients\n",
    "# pip install -U scikit-learn\n",
    "from sklearn.model_selection import train_test_split\n",
    "\n",
    "client1_x, client2_x, client1_y, client2y = train_test_split(x_train, y_train, test_size=0.33, random_state=100)\n",
    "len(client1_x)\n",
    "len(client2_x)"
   ]
  },
  {
   "cell_type": "code",
   "execution_count": 3,
   "metadata": {},
   "outputs": [],
   "source": [
    "# Dellocate variable to save RAM space\n",
    "del x_train\n",
    "del y_train"
   ]
  },
  {
   "cell_type": "code",
   "execution_count": 4,
   "metadata": {},
   "outputs": [
    {
     "name": "stdout",
     "output_type": "stream",
     "text": [
      "502500 495000 502500\n"
     ]
    }
   ],
   "source": [
    "client1_x, client3_x, client1_y, client3y = train_test_split(\n",
    "    client1_x, client1_y, test_size=0.5, random_state=100)\n",
    "print(len(client1_x), len(client2_x), len(client3_x))\n"
   ]
  },
  {
   "cell_type": "code",
   "execution_count": 6,
   "metadata": {},
   "outputs": [
    {
     "name": "stdout",
     "output_type": "stream",
     "text": [
      "Epoch 1/100\n",
      "221/221 [==============================] - ETA: 0s - loss: 2.8135e-04"
     ]
    },
    {
     "name": "stderr",
     "output_type": "stream",
     "text": [
      "WARNING:absl:Found untraced functions such as _jit_compiled_convolution_op, _jit_compiled_convolution_op, _jit_compiled_convolution_op, _jit_compiled_convolution_op while saving (showing 4 of 4). These functions will not be directly callable after loading.\n"
     ]
    },
    {
     "name": "stdout",
     "output_type": "stream",
     "text": [
      "INFO:tensorflow:Assets written to: /checkpoint/f2-1\\assets\n"
     ]
    },
    {
     "name": "stderr",
     "output_type": "stream",
     "text": [
      "INFO:tensorflow:Assets written to: /checkpoint/f2-1\\assets\n"
     ]
    },
    {
     "name": "stdout",
     "output_type": "stream",
     "text": [
      "221/221 [==============================] - 81s 364ms/step - loss: 2.8135e-04 - val_loss: 2.7864e-04 - lr: 5.0000e-06\n",
      "Epoch 2/100\n",
      "221/221 [==============================] - 83s 374ms/step - loss: 2.8079e-04 - val_loss: 2.7952e-04 - lr: 5.0000e-06\n",
      "Epoch 3/100\n",
      "221/221 [==============================] - 87s 396ms/step - loss: 2.8032e-04 - val_loss: 2.7917e-04 - lr: 5.0000e-06\n",
      "Epoch 4/100\n",
      "221/221 [==============================] - 86s 390ms/step - loss: 2.7993e-04 - val_loss: 2.7947e-04 - lr: 5.0000e-06\n",
      "Epoch 5/100\n",
      "221/221 [==============================] - 86s 388ms/step - loss: 2.7960e-04 - val_loss: 2.7922e-04 - lr: 5.0000e-06\n",
      "Epoch 6/100\n",
      "221/221 [==============================] - 87s 392ms/step - loss: 2.7922e-04 - val_loss: 2.7885e-04 - lr: 5.0000e-06\n",
      "Epoch 7/100\n",
      "221/221 [==============================] - 86s 391ms/step - loss: 2.7886e-04 - val_loss: 2.7897e-04 - lr: 5.0000e-06\n",
      "Epoch 8/100\n",
      "221/221 [==============================] - 86s 388ms/step - loss: 2.7858e-04 - val_loss: 2.7938e-04 - lr: 5.0000e-06\n",
      "Epoch 9/100\n",
      "221/221 [==============================] - 86s 387ms/step - loss: 2.7822e-04 - val_loss: 2.8036e-04 - lr: 5.0000e-06\n",
      "Epoch 10/100\n",
      "221/221 [==============================] - 86s 388ms/step - loss: 2.7797e-04 - val_loss: 2.7937e-04 - lr: 5.0000e-06\n",
      "Epoch 11/100\n",
      "221/221 [==============================] - 86s 388ms/step - loss: 2.7765e-04 - val_loss: 2.7955e-04 - lr: 5.0000e-06\n",
      "Epoch 12/100\n",
      "221/221 [==============================] - 86s 387ms/step - loss: 2.7698e-04 - val_loss: 2.7955e-04 - lr: 5.0000e-07\n",
      "Epoch 13/100\n",
      "221/221 [==============================] - 86s 388ms/step - loss: 2.7694e-04 - val_loss: 2.7961e-04 - lr: 5.0000e-07\n",
      "Epoch 14/100\n",
      "221/221 [==============================] - 86s 388ms/step - loss: 2.7691e-04 - val_loss: 2.7964e-04 - lr: 5.0000e-07\n",
      "Epoch 15/100\n",
      "221/221 [==============================] - 86s 388ms/step - loss: 2.7688e-04 - val_loss: 2.7962e-04 - lr: 5.0000e-07\n",
      "Epoch 16/100\n",
      "221/221 [==============================] - 86s 390ms/step - loss: 2.7685e-04 - val_loss: 2.7965e-04 - lr: 5.0000e-07\n"
     ]
    },
    {
     "data": {
      "text/plain": [
       "<keras.callbacks.History at 0x237f0a107c0>"
      ]
     },
     "execution_count": 6,
     "metadata": {},
     "output_type": "execute_result"
    }
   ],
   "source": [
    "\"\"\"\n",
    "Training client 1 model\n",
    "\"\"\"\n",
    "from tensorflow.keras.callbacks import ModelCheckpoint\n",
    "\n",
    "checkpoint_filepath = '/checkpoint/f2-1/'\n",
    "model_checkpointing_callback = ModelCheckpoint(\n",
    "    filepath=checkpoint_filepath,\n",
    "    save_best_only=True,\n",
    ")\n",
    "client1_model.fit(client1_x, client1_y,\n",
    "          batch_size=2048,\n",
    "          epochs=100,\n",
    "          verbose=1,\n",
    "          validation_split=0.1,\n",
    "          callbacks=[callbacks.ReduceLROnPlateau(monitor='loss', patience=10),\n",
    "                     callbacks.EarlyStopping(monitor='loss', patience=15, min_delta=1e-4), model_checkpointing_callback])\n"
   ]
  },
  {
   "cell_type": "code",
   "execution_count": 7,
   "metadata": {
    "id": "RyOYq9mv2ppC"
   },
   "outputs": [
    {
     "name": "stdout",
     "output_type": "stream",
     "text": [
      "Epoch 1/100\n",
      "218/218 [==============================] - ETA: 0s - loss: 2.8705e-04"
     ]
    },
    {
     "name": "stderr",
     "output_type": "stream",
     "text": [
      "WARNING:absl:Found untraced functions such as _jit_compiled_convolution_op, _jit_compiled_convolution_op, _jit_compiled_convolution_op, _jit_compiled_convolution_op while saving (showing 4 of 4). These functions will not be directly callable after loading.\n"
     ]
    },
    {
     "name": "stdout",
     "output_type": "stream",
     "text": [
      "INFO:tensorflow:Assets written to: /checkpoint/f2-2\\assets\n"
     ]
    },
    {
     "name": "stderr",
     "output_type": "stream",
     "text": [
      "INFO:tensorflow:Assets written to: /checkpoint/f2-2\\assets\n"
     ]
    },
    {
     "name": "stdout",
     "output_type": "stream",
     "text": [
      "218/218 [==============================] - 86s 392ms/step - loss: 2.8705e-04 - val_loss: 2.7874e-04 - lr: 5.0000e-06\n",
      "Epoch 2/100\n",
      "218/218 [==============================] - ETA: 0s - loss: 2.8643e-04"
     ]
    },
    {
     "name": "stderr",
     "output_type": "stream",
     "text": [
      "WARNING:absl:Found untraced functions such as _jit_compiled_convolution_op, _jit_compiled_convolution_op, _jit_compiled_convolution_op, _jit_compiled_convolution_op while saving (showing 4 of 4). These functions will not be directly callable after loading.\n"
     ]
    },
    {
     "name": "stdout",
     "output_type": "stream",
     "text": [
      "INFO:tensorflow:Assets written to: /checkpoint/f2-2\\assets\n"
     ]
    },
    {
     "name": "stderr",
     "output_type": "stream",
     "text": [
      "INFO:tensorflow:Assets written to: /checkpoint/f2-2\\assets\n"
     ]
    },
    {
     "name": "stdout",
     "output_type": "stream",
     "text": [
      "218/218 [==============================] - 86s 392ms/step - loss: 2.8643e-04 - val_loss: 2.7860e-04 - lr: 5.0000e-06\n",
      "Epoch 3/100\n",
      "218/218 [==============================] - 84s 387ms/step - loss: 2.8597e-04 - val_loss: 2.7885e-04 - lr: 5.0000e-06\n",
      "Epoch 4/100\n",
      "218/218 [==============================] - 85s 388ms/step - loss: 2.8551e-04 - val_loss: 2.7909e-04 - lr: 5.0000e-06\n",
      "Epoch 5/100\n",
      "218/218 [==============================] - 85s 390ms/step - loss: 2.8506e-04 - val_loss: 2.7961e-04 - lr: 5.0000e-06\n",
      "Epoch 6/100\n",
      "218/218 [==============================] - 85s 388ms/step - loss: 2.8469e-04 - val_loss: 2.7954e-04 - lr: 5.0000e-06\n",
      "Epoch 7/100\n",
      "218/218 [==============================] - 84s 388ms/step - loss: 2.8445e-04 - val_loss: 2.7996e-04 - lr: 5.0000e-06\n",
      "Epoch 8/100\n",
      "218/218 [==============================] - 84s 388ms/step - loss: 2.8406e-04 - val_loss: 2.7998e-04 - lr: 5.0000e-06\n",
      "Epoch 9/100\n",
      "218/218 [==============================] - 84s 387ms/step - loss: 2.8379e-04 - val_loss: 2.8019e-04 - lr: 5.0000e-06\n",
      "Epoch 10/100\n",
      "218/218 [==============================] - 84s 387ms/step - loss: 2.8339e-04 - val_loss: 2.8043e-04 - lr: 5.0000e-06\n",
      "Epoch 11/100\n",
      "218/218 [==============================] - 84s 388ms/step - loss: 2.8310e-04 - val_loss: 2.8087e-04 - lr: 5.0000e-06\n",
      "Epoch 12/100\n",
      "218/218 [==============================] - 84s 387ms/step - loss: 2.8249e-04 - val_loss: 2.8038e-04 - lr: 5.0000e-07\n",
      "Epoch 13/100\n",
      "218/218 [==============================] - 84s 387ms/step - loss: 2.8237e-04 - val_loss: 2.8037e-04 - lr: 5.0000e-07\n",
      "Epoch 14/100\n",
      "218/218 [==============================] - 101s 466ms/step - loss: 2.8234e-04 - val_loss: 2.8041e-04 - lr: 5.0000e-07\n",
      "Epoch 15/100\n",
      "218/218 [==============================] - 100s 460ms/step - loss: 2.8231e-04 - val_loss: 2.8038e-04 - lr: 5.0000e-07\n",
      "Epoch 16/100\n",
      "218/218 [==============================] - 98s 448ms/step - loss: 2.8228e-04 - val_loss: 2.8038e-04 - lr: 5.0000e-07\n"
     ]
    },
    {
     "data": {
      "text/plain": [
       "<keras.callbacks.History at 0x237bd4426a0>"
      ]
     },
     "execution_count": 7,
     "metadata": {},
     "output_type": "execute_result"
    }
   ],
   "source": [
    "\"\"\"\n",
    "Training client 2 model\n",
    "\"\"\"\n",
    "checkpoint_filepath = '/checkpoint/f2-2/'\n",
    "model_checkpointing_callback = ModelCheckpoint(\n",
    "    filepath=checkpoint_filepath,\n",
    "    save_best_only=True,\n",
    ")\n",
    "client2_model.fit(client2_x, client2y,\n",
    "          batch_size=2048,\n",
    "          epochs=100,\n",
    "          verbose=1,\n",
    "          validation_split=0.1,\n",
    "          callbacks=[callbacks.ReduceLROnPlateau(monitor='loss', patience=10),\n",
    "                     callbacks.EarlyStopping(monitor='loss', patience=15, min_delta=1e-4), model_checkpointing_callback])\n"
   ]
  },
  {
   "cell_type": "code",
   "execution_count": 8,
   "metadata": {},
   "outputs": [
    {
     "name": "stdout",
     "output_type": "stream",
     "text": [
      "Epoch 1/100\n",
      "221/221 [==============================] - ETA: 0s - loss: 2.8596e-04"
     ]
    },
    {
     "name": "stderr",
     "output_type": "stream",
     "text": [
      "WARNING:absl:Found untraced functions such as _jit_compiled_convolution_op, _jit_compiled_convolution_op, _jit_compiled_convolution_op, _jit_compiled_convolution_op while saving (showing 4 of 4). These functions will not be directly callable after loading.\n"
     ]
    },
    {
     "name": "stdout",
     "output_type": "stream",
     "text": [
      "INFO:tensorflow:Assets written to: /checkpoint/f2-3\\assets\n"
     ]
    },
    {
     "name": "stderr",
     "output_type": "stream",
     "text": [
      "INFO:tensorflow:Assets written to: /checkpoint/f2-3\\assets\n"
     ]
    },
    {
     "name": "stdout",
     "output_type": "stream",
     "text": [
      "221/221 [==============================] - 102s 458ms/step - loss: 2.8596e-04 - val_loss: 2.8226e-04 - lr: 5.0000e-06\n",
      "Epoch 2/100\n",
      "221/221 [==============================] - 104s 468ms/step - loss: 2.8540e-04 - val_loss: 2.8254e-04 - lr: 5.0000e-06\n",
      "Epoch 3/100\n",
      "221/221 [==============================] - 106s 479ms/step - loss: 2.8497e-04 - val_loss: 2.8295e-04 - lr: 5.0000e-06\n",
      "Epoch 4/100\n",
      "221/221 [==============================] - 111s 504ms/step - loss: 2.8455e-04 - val_loss: 2.8291e-04 - lr: 5.0000e-06\n",
      "Epoch 5/100\n",
      "221/221 [==============================] - 116s 525ms/step - loss: 2.8415e-04 - val_loss: 2.8320e-04 - lr: 5.0000e-06\n",
      "Epoch 6/100\n",
      "221/221 [==============================] - 116s 524ms/step - loss: 2.8380e-04 - val_loss: 2.8347e-04 - lr: 5.0000e-06\n",
      "Epoch 7/100\n",
      "221/221 [==============================] - 116s 525ms/step - loss: 2.8345e-04 - val_loss: 2.8376e-04 - lr: 5.0000e-06\n",
      "Epoch 8/100\n",
      "221/221 [==============================] - 116s 526ms/step - loss: 2.8315e-04 - val_loss: 2.8347e-04 - lr: 5.0000e-06\n",
      "Epoch 9/100\n",
      "221/221 [==============================] - 116s 525ms/step - loss: 2.8281e-04 - val_loss: 2.8364e-04 - lr: 5.0000e-06\n",
      "Epoch 10/100\n",
      "221/221 [==============================] - 116s 527ms/step - loss: 2.8250e-04 - val_loss: 2.8366e-04 - lr: 5.0000e-06\n",
      "Epoch 11/100\n",
      "221/221 [==============================] - 116s 523ms/step - loss: 2.8217e-04 - val_loss: 2.8400e-04 - lr: 5.0000e-06\n",
      "Epoch 12/100\n",
      "221/221 [==============================] - 116s 524ms/step - loss: 2.8153e-04 - val_loss: 2.8387e-04 - lr: 5.0000e-07\n",
      "Epoch 13/100\n",
      "221/221 [==============================] - 116s 526ms/step - loss: 2.8148e-04 - val_loss: 2.8386e-04 - lr: 5.0000e-07\n",
      "Epoch 14/100\n",
      "221/221 [==============================] - 115s 520ms/step - loss: 2.8145e-04 - val_loss: 2.8386e-04 - lr: 5.0000e-07\n",
      "Epoch 15/100\n",
      "221/221 [==============================] - 114s 515ms/step - loss: 2.8142e-04 - val_loss: 2.8386e-04 - lr: 5.0000e-07\n",
      "Epoch 16/100\n",
      "221/221 [==============================] - 122s 554ms/step - loss: 2.8139e-04 - val_loss: 2.8388e-04 - lr: 5.0000e-07\n"
     ]
    },
    {
     "data": {
      "text/plain": [
       "<keras.callbacks.History at 0x237bb089340>"
      ]
     },
     "execution_count": 8,
     "metadata": {},
     "output_type": "execute_result"
    }
   ],
   "source": [
    "\"\"\"\n",
    "Training client 3 model\n",
    "\"\"\"\n",
    "from tensorflow.keras.callbacks import ModelCheckpoint\n",
    "checkpoint_filepath = '/checkpoint/f2-3/'\n",
    "model_checkpointing_callback = ModelCheckpoint(\n",
    "    filepath=checkpoint_filepath,\n",
    "    save_best_only=True,\n",
    ")\n",
    "client3_model.fit(client3_x, client3y,\n",
    "          batch_size=2048,\n",
    "          epochs=100,\n",
    "          verbose=1,\n",
    "          validation_split=0.1,\n",
    "          callbacks=[callbacks.ReduceLROnPlateau(monitor='loss', patience=10),\n",
    "                     callbacks.EarlyStopping(monitor='loss', patience=15, min_delta=1e-4), model_checkpointing_callback])\n"
   ]
  },
  {
   "cell_type": "code",
   "execution_count": 9,
   "metadata": {},
   "outputs": [],
   "source": [
    "\"\"\"\n",
    "Aggregrate models\n",
    "\"\"\"\n",
    "\n",
    "client1_weights = client1_model.get_weights()\n",
    "client2_weights = client2_model.get_weights()\n",
    "client3_weights = client3_model.get_weights()\n",
    "\n",
    "client1_weights = numpy.array(client1_weights, dtype=object)\n",
    "client2_weights = numpy.array(client2_weights, dtype=object)\n",
    "client3_weights = numpy.array(client3_weights, dtype=object)\n",
    "\n",
    "client1_weights = 1/3.35 * client1_weights\n",
    "client2_weights = 1/3.3 * client2_weights\n",
    "client3_weights = 1/3.35 * client3_weights\n",
    "\n",
    "aggregated_weights = numpy.add(client1_weights,client2_weights)\n",
    "aggregated_weights = numpy.add(aggregated_weights, client3_weights)\n",
    "\n",
    "client1_model.set_weights(aggregated_weights)\n",
    "client1_model.save_weights(\"model_weight/federated2_weights\", save_format=\"h5\")\n"
   ]
  }
 ],
 "metadata": {
  "accelerator": "GPU",
  "colab": {
   "collapsed_sections": [],
   "name": "Chess AI",
   "private_outputs": true,
   "provenance": []
  },
  "interpreter": {
   "hash": "7e7666bfb430d4514d1195031d15ccf80594a969647ade4f9e6074d5049c6fab"
  },
  "kernelspec": {
   "display_name": "Python 3",
   "language": "python",
   "name": "python3"
  },
  "language_info": {
   "codemirror_mode": {
    "name": "ipython",
    "version": 3
   },
   "file_extension": ".py",
   "mimetype": "text/x-python",
   "name": "python",
   "nbconvert_exporter": "python",
   "pygments_lexer": "ipython3",
   "version": "3.9.7"
  }
 },
 "nbformat": 4,
 "nbformat_minor": 1
}
