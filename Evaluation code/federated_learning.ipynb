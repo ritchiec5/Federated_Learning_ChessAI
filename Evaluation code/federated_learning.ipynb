{
 "cells": [
  {
   "cell_type": "markdown",
   "metadata": {
    "id": "ukmA7z-dlB6m"
   },
   "source": [
    "# TensorFlow!"
   ]
  },
  {
   "cell_type": "code",
   "execution_count": 8,
   "metadata": {
    "id": "6S7QNZqwmBOP"
   },
   "outputs": [],
   "source": [
    "import tensorflow\n",
    "import tensorflow.keras.models as models\n",
    "import tensorflow.keras.layers as layers\n",
    "import tensorflow.keras.utils as utils\n",
    "import tensorflow.keras.optimizers as optimizers\n",
    "\n",
    "client1_model = tensorflow.keras.models.load_model(\n",
    "    'model_weight/global_model.h5')\n",
    "client2_model = tensorflow.keras.models.load_model(\n",
    "    'model_weight/global_model.h5')"
   ]
  },
  {
   "cell_type": "markdown",
   "metadata": {
    "id": "ck79-w2ZxwVB"
   },
   "source": [
    "# It's training time!"
   ]
  },
  {
   "cell_type": "code",
   "execution_count": 9,
   "metadata": {
    "cellView": "both",
    "id": "CkOXxmoVyHdc"
   },
   "outputs": [],
   "source": [
    "import numpy\n",
    "import tensorflow.keras.callbacks as callbacks\n",
    "\n",
    "\n",
    "def get_dataset():\n",
    "\tcontainer = numpy.load('dataset.npz') # Download dataset.npz from the link in Readme.md\n",
    "\tb, v = container['b'], container['v']\n",
    "\tv = numpy.asarray(v / abs(v).max() / 2 + 0.5, dtype=numpy.float32) # normalization (0 - 1)\n",
    "\treturn b, v\n",
    "\n",
    "x_train, y_train = get_dataset()"
   ]
  },
  {
   "cell_type": "code",
   "execution_count": 10,
   "metadata": {},
   "outputs": [],
   "source": [
    "# Split dataset for two clients\n",
    "# pip install -U scikit-learn\n",
    "from sklearn.model_selection import train_test_split\n",
    "\n",
    "client1_x, client2_x, client1_y, client2y =train_test_split(x_train, y_train, test_size=0.5, random_state=100)"
   ]
  },
  {
   "cell_type": "code",
   "execution_count": 11,
   "metadata": {},
   "outputs": [
    {
     "name": "stdout",
     "output_type": "stream",
     "text": [
      "Epoch 1/50\n",
      "330/330 [==============================] - 152s 461ms/step - loss: 2.8262e-04 - val_loss: 2.9083e-04 - lr: 5.0000e-06\n",
      "Epoch 2/50\n",
      "330/330 [==============================] - 154s 467ms/step - loss: 2.8217e-04 - val_loss: 2.9101e-04 - lr: 5.0000e-06\n",
      "Epoch 3/50\n",
      "330/330 [==============================] - 154s 468ms/step - loss: 2.8176e-04 - val_loss: 2.9111e-04 - lr: 5.0000e-06\n",
      "Epoch 4/50\n",
      "330/330 [==============================] - 155s 470ms/step - loss: 2.8142e-04 - val_loss: 2.9137e-04 - lr: 5.0000e-06\n",
      "Epoch 5/50\n",
      "330/330 [==============================] - 151s 459ms/step - loss: 2.8106e-04 - val_loss: 2.9170e-04 - lr: 5.0000e-06\n",
      "Epoch 6/50\n",
      "330/330 [==============================] - 151s 457ms/step - loss: 2.8077e-04 - val_loss: 2.9163e-04 - lr: 5.0000e-06\n",
      "Epoch 7/50\n",
      "330/330 [==============================] - 150s 455ms/step - loss: 2.8047e-04 - val_loss: 2.9206e-04 - lr: 5.0000e-06\n",
      "Epoch 8/50\n",
      "330/330 [==============================] - 152s 461ms/step - loss: 2.8021e-04 - val_loss: 2.9205e-04 - lr: 5.0000e-06\n",
      "Epoch 9/50\n",
      "330/330 [==============================] - 155s 469ms/step - loss: 2.7995e-04 - val_loss: 2.9255e-04 - lr: 5.0000e-06\n",
      "Epoch 10/50\n",
      "330/330 [==============================] - 156s 471ms/step - loss: 2.7968e-04 - val_loss: 2.9270e-04 - lr: 5.0000e-06\n",
      "Epoch 11/50\n",
      "330/330 [==============================] - 154s 467ms/step - loss: 2.7944e-04 - val_loss: 2.9238e-04 - lr: 5.0000e-06\n",
      "Epoch 12/50\n",
      "330/330 [==============================] - 155s 470ms/step - loss: 2.7879e-04 - val_loss: 2.9238e-04 - lr: 5.0000e-07\n",
      "Epoch 13/50\n",
      "330/330 [==============================] - 154s 468ms/step - loss: 2.7874e-04 - val_loss: 2.9241e-04 - lr: 5.0000e-07\n",
      "Epoch 14/50\n",
      "330/330 [==============================] - 160s 486ms/step - loss: 2.7871e-04 - val_loss: 2.9241e-04 - lr: 5.0000e-07\n",
      "Epoch 15/50\n",
      "330/330 [==============================] - 155s 470ms/step - loss: 2.7868e-04 - val_loss: 2.9243e-04 - lr: 5.0000e-07\n",
      "Epoch 16/50\n",
      "330/330 [==============================] - 155s 470ms/step - loss: 2.7866e-04 - val_loss: 2.9244e-04 - lr: 5.0000e-07\n"
     ]
    },
    {
     "data": {
      "text/plain": [
       "<keras.callbacks.History at 0x171c2484d60>"
      ]
     },
     "execution_count": 11,
     "metadata": {},
     "output_type": "execute_result"
    }
   ],
   "source": [
    "\"\"\"\n",
    "Training client 1 model\n",
    "\"\"\"\n",
    "from tensorflow.keras.callbacks import ModelCheckpoint\n",
    "\n",
    "# checkpoint_filepath = '/checkpoint/f0-1/'\n",
    "# model_checkpointing_callback = ModelCheckpoint(\n",
    "#     filepath=checkpoint_filepath,\n",
    "#     save_best_only=True,\n",
    "# )\n",
    "client1_model.fit(client1_x, client1_y,\n",
    "          batch_size=2048,\n",
    "          epochs=50,\n",
    "          verbose=1,\n",
    "          validation_split=0.1,\n",
    "          callbacks=[callbacks.ReduceLROnPlateau(monitor='loss', patience=10),\n",
    "                     callbacks.EarlyStopping(monitor='loss', patience=15, min_delta=1e-4)])\n"
   ]
  },
  {
   "cell_type": "code",
   "execution_count": 12,
   "metadata": {
    "id": "RyOYq9mv2ppC"
   },
   "outputs": [
    {
     "name": "stdout",
     "output_type": "stream",
     "text": [
      "Epoch 1/50\n",
      "330/330 [==============================] - 154s 467ms/step - loss: 2.8485e-04 - val_loss: 2.8847e-04 - lr: 5.0000e-06\n",
      "Epoch 2/50\n",
      "330/330 [==============================] - 160s 484ms/step - loss: 2.8437e-04 - val_loss: 2.8864e-04 - lr: 5.0000e-06\n",
      "Epoch 3/50\n",
      "330/330 [==============================] - 155s 468ms/step - loss: 2.8398e-04 - val_loss: 2.8908e-04 - lr: 5.0000e-06\n",
      "Epoch 4/50\n",
      "330/330 [==============================] - 156s 472ms/step - loss: 2.8366e-04 - val_loss: 2.8886e-04 - lr: 5.0000e-06\n",
      "Epoch 5/50\n",
      "330/330 [==============================] - 156s 474ms/step - loss: 2.8334e-04 - val_loss: 2.8898e-04 - lr: 5.0000e-06\n",
      "Epoch 6/50\n",
      "330/330 [==============================] - 156s 473ms/step - loss: 2.8305e-04 - val_loss: 2.8986e-04 - lr: 5.0000e-06\n",
      "Epoch 7/50\n",
      "330/330 [==============================] - 155s 471ms/step - loss: 2.8279e-04 - val_loss: 2.8935e-04 - lr: 5.0000e-06\n",
      "Epoch 8/50\n",
      "330/330 [==============================] - 162s 490ms/step - loss: 2.8257e-04 - val_loss: 2.8980e-04 - lr: 5.0000e-06\n",
      "Epoch 9/50\n",
      "330/330 [==============================] - 154s 468ms/step - loss: 2.8222e-04 - val_loss: 2.8966e-04 - lr: 5.0000e-06\n",
      "Epoch 10/50\n",
      "330/330 [==============================] - 158s 478ms/step - loss: 2.8200e-04 - val_loss: 2.9017e-04 - lr: 5.0000e-06\n",
      "Epoch 11/50\n",
      "330/330 [==============================] - 154s 467ms/step - loss: 2.8177e-04 - val_loss: 2.9000e-04 - lr: 5.0000e-06\n",
      "Epoch 12/50\n",
      "330/330 [==============================] - 156s 471ms/step - loss: 2.8112e-04 - val_loss: 2.8996e-04 - lr: 5.0000e-07\n",
      "Epoch 13/50\n",
      "330/330 [==============================] - 154s 466ms/step - loss: 2.8107e-04 - val_loss: 2.8999e-04 - lr: 5.0000e-07\n",
      "Epoch 14/50\n",
      "330/330 [==============================] - 154s 467ms/step - loss: 2.8105e-04 - val_loss: 2.9002e-04 - lr: 5.0000e-07\n",
      "Epoch 15/50\n",
      "330/330 [==============================] - 154s 467ms/step - loss: 2.8102e-04 - val_loss: 2.9003e-04 - lr: 5.0000e-07\n",
      "Epoch 16/50\n",
      "330/330 [==============================] - 154s 468ms/step - loss: 2.8098e-04 - val_loss: 2.9004e-04 - lr: 5.0000e-07\n"
     ]
    },
    {
     "data": {
      "text/plain": [
       "<keras.callbacks.History at 0x170c3debf70>"
      ]
     },
     "execution_count": 12,
     "metadata": {},
     "output_type": "execute_result"
    }
   ],
   "source": [
    "\"\"\"\n",
    "Training client 2 model\n",
    "\"\"\"\n",
    "# checkpoint_filepath = './checkpoint/f0-2'\n",
    "# model_checkpointing_callback = ModelCheckpoint(\n",
    "#     filepath=checkpoint_filepath,\n",
    "#     save_best_only=True,\n",
    "# )\n",
    "client2_model.fit(client2_x, client2y,\n",
    "          batch_size=2048,\n",
    "          epochs=50,\n",
    "          verbose=1,\n",
    "          validation_split=0.1,\n",
    "          callbacks=[callbacks.ReduceLROnPlateau(monitor='loss', patience=10),\n",
    "                     callbacks.EarlyStopping(monitor='loss', patience=15, min_delta=1e-4)])\n"
   ]
  },
  {
   "cell_type": "code",
   "execution_count": 35,
   "metadata": {},
   "outputs": [],
   "source": [
    "\"\"\"\n",
    "Aggregrate models\n",
    "\"\"\"\n",
    "\n",
    "client1_weights = client1_model.get_weights()\n",
    "client2_weights = client2_model.get_weights()\n",
    "\n",
    "client1_weights = numpy.array(client1_weights, dtype=object)\n",
    "client2_weights = numpy.array(client2_weights, dtype=object)\n",
    "\n",
    "client1_weights = 1/2 * client1_weights\n",
    "client2_weights = 1/2 * client2_weights\n",
    "\n",
    "aggregated_weights = numpy.add(client1_weights,client2_weights)\n",
    "\n",
    "client1_model.set_weights(aggregated_weights)\n",
    "client1_model.save_weights(\"model_weight/federated0_weights\", save_format=\"h5\")"
   ]
  }
 ],
 "metadata": {
  "accelerator": "GPU",
  "colab": {
   "collapsed_sections": [],
   "name": "Chess AI",
   "private_outputs": true,
   "provenance": []
  },
  "interpreter": {
   "hash": "7e7666bfb430d4514d1195031d15ccf80594a969647ade4f9e6074d5049c6fab"
  },
  "kernelspec": {
   "display_name": "Python 3 (ipykernel)",
   "language": "python",
   "name": "python3"
  },
  "language_info": {
   "codemirror_mode": {
    "name": "ipython",
    "version": 3
   },
   "file_extension": ".py",
   "mimetype": "text/x-python",
   "name": "python",
   "nbconvert_exporter": "python",
   "pygments_lexer": "ipython3",
   "version": "3.9.7"
  }
 },
 "nbformat": 4,
 "nbformat_minor": 1
}
