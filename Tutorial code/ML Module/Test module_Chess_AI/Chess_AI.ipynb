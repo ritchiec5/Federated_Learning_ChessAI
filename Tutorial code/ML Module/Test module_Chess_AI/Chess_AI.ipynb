{
  "cells": [
    {
      "cell_type": "code",
      "execution_count": null,
      "metadata": {
        "id": "fn0sCWoHYsbB"
      },
      "outputs": [],
      "source": [
        "# pip install python-chess==0.31.3"
      ]
    },
    {
      "cell_type": "code",
      "execution_count": null,
      "metadata": {
        "id": "QauvWk2MkddY"
      },
      "outputs": [],
      "source": [
        "import chess\n",
        "import chess.engine\n",
        "import random\n",
        "import numpy\n",
        "import os\n",
        "\n",
        "\n",
        "# this function will create our x (board)\n",
        "def random_board(max_depth=200):\n",
        "  board = chess.Board()\n",
        "  depth = random.randrange(0, max_depth)\n",
        "\n",
        "  for _ in range(depth):\n",
        "    all_moves = list(board.legal_moves)\n",
        "    random_move = random.choice(all_moves)\n",
        "    board.push(random_move)\n",
        "    if board.is_game_over():\n",
        "      break\n",
        "\n",
        "  return board\n",
        "\n",
        "\n",
        "FILEPATH = os.path.abspath(\"../../../Completed Code/Client\")\n",
        "filepath = FILEPATH + \"\\\\libs\\\\stockfish_15_win_x64_avx2\\\\stockfish_15_win_x64_avx2\\\\stockfish_15_x64_avx2.exe\"\n",
        "print(filepath)\n",
        "# this function will create our f(x) (score)\n",
        "def stockfish(board, depth):\n",
        "  with chess.engine.SimpleEngine.popen_uci(filepath) as sf:\n",
        "    result = sf.analyse(board, chess.engine.Limit(depth=depth))\n",
        "    score = result['score'].white().score()\n",
        "    return score\n"
      ]
    },
    {
      "cell_type": "code",
      "execution_count": null,
      "metadata": {
        "id": "ULOEWyyfYqtq"
      },
      "outputs": [],
      "source": [
        "board = random_board()\n",
        "board"
      ]
    },
    {
      "cell_type": "code",
      "execution_count": null,
      "metadata": {
        "id": "QtZy4cR8ZMhq"
      },
      "outputs": [],
      "source": [
        "print(stockfish(board, 0))"
      ]
    },
    {
      "cell_type": "markdown",
      "metadata": {
        "id": "6Fgr5NTWqgsA"
      },
      "source": [
        "**The AI will learn how to give a accurate prediction of *f(x)* when we present a *x* never seen before.**\n",
        "\n",
        "*board -> score*"
      ]
    },
    {
      "cell_type": "markdown",
      "metadata": {
        "id": "cMgBRL1Kdc0B"
      },
      "source": [
        "# Creating the dataset"
      ]
    },
    {
      "cell_type": "markdown",
      "metadata": {
        "id": "d4Sg-yu0sS4t"
      },
      "source": [
        "Now we need to convert the board representation to something meaningful.\n",
        "\n",
        "A 3d matrix of sizes **14 x 8 x 8**\n",
        "\n"
      ]
    },
    {
      "cell_type": "code",
      "execution_count": null,
      "metadata": {
        "id": "Rdo64dA7dhBE"
      },
      "outputs": [],
      "source": [
        "squares_index = {\n",
        "  'a': 0,\n",
        "  'b': 1,\n",
        "  'c': 2,\n",
        "  'd': 3,\n",
        "  'e': 4,\n",
        "  'f': 5,\n",
        "  'g': 6,\n",
        "  'h': 7\n",
        "}\n",
        "\n",
        "\n",
        "# example: h3 -> 17\n",
        "def square_to_index(square):\n",
        "  letter = chess.square_name(square)\n",
        "  return 8 - int(letter[1]), squares_index[letter[0]]\n",
        "\n",
        "\n",
        "def split_dims(board):\n",
        "  # this is the 3d matrix\n",
        "  board3d = numpy.zeros((14, 8, 8), dtype=numpy.int8)\n",
        "\n",
        "  # here we add the pieces's view on the matrix\n",
        "  for piece in chess.PIECE_TYPES:\n",
        "    for square in board.pieces(piece, chess.WHITE):\n",
        "      idx = numpy.unravel_index(square, (8, 8))\n",
        "      board3d[piece - 1][7 - idx[0]][idx[1]] = 1\n",
        "    for square in board.pieces(piece, chess.BLACK):\n",
        "      idx = numpy.unravel_index(square, (8, 8))\n",
        "      board3d[piece + 5][7 - idx[0]][idx[1]] = 1\n",
        "\n",
        "  # add attacks and valid moves too\n",
        "  # so the network knows what is being attacked\n",
        "  aux = board.turn\n",
        "  board.turn = chess.WHITE\n",
        "  for move in board.legal_moves:\n",
        "      i, j = square_to_index(move.to_square)\n",
        "      board3d[12][i][j] = 1\n",
        "  board.turn = chess.BLACK\n",
        "  for move in board.legal_moves:\n",
        "      i, j = square_to_index(move.to_square)\n",
        "      board3d[13][i][j] = 1\n",
        "  board.turn = aux\n",
        "\n",
        "  return board3d"
      ]
    },
    {
      "cell_type": "code",
      "execution_count": null,
      "metadata": {
        "id": "gHONl_M1hG9i"
      },
      "outputs": [],
      "source": [
        "split_dims(board)"
      ]
    },
    {
      "cell_type": "markdown",
      "metadata": {
        "id": "OwpzPcsXfuVw"
      },
      "source": [
        "Now, all we have to do is call **random_board()** to create random boards, **stockfish()** to get a score for how good each board is for white.\n",
        "\n",
        "Then we convert each board to a 3d matrix using **split_dims()**, now creating the dataset is easy!"
      ]
    },
    {
      "cell_type": "markdown",
      "metadata": {
        "id": "ukmA7z-dlB6m"
      },
      "source": [
        "# TensorFlow!"
      ]
    },
    {
      "cell_type": "code",
      "execution_count": null,
      "metadata": {
        "id": "6S7QNZqwmBOP"
      },
      "outputs": [],
      "source": [
        "import tensorflow.keras.models as models\n",
        "import tensorflow.keras.layers as layers\n",
        "import tensorflow.keras.utils as utils\n",
        "import tensorflow.keras.optimizers as optimizers\n",
        "\n",
        "\n",
        "def build_model(conv_size, conv_depth):\n",
        "  board3d = layers.Input(shape=(14, 8, 8))\n",
        "\n",
        "  # adding the convolutional layers\n",
        "  x = board3d\n",
        "  for _ in range(conv_depth):\n",
        "    x = layers.Conv2D(filters=conv_size, kernel_size=3,\n",
        "                      padding='same', activation='relu')(x)\n",
        "  x = layers.Flatten()(x)\n",
        "  x = layers.Dense(64, 'relu')(x)\n",
        "  x = layers.Dense(1, 'sigmoid')(x)\n",
        "\n",
        "  return models.Model(inputs=board3d, outputs=x)\n"
      ]
    },
    {
      "cell_type": "code",
      "execution_count": null,
      "metadata": {
        "id": "3IjDiS3Bmo5m"
      },
      "outputs": [],
      "source": [
        "model = build_model(32, 4)"
      ]
    },
    {
      "cell_type": "markdown",
      "metadata": {
        "id": "6S1RCn3xn4Bu"
      },
      "source": [
        "Skip connections (residual network) will likely improve the model for deeper connections. If you want to test the residual model, check the code below."
      ]
    },
    {
      "cell_type": "code",
      "execution_count": null,
      "metadata": {
        "id": "tAFSOFc8pJf8"
      },
      "outputs": [],
      "source": [
        "def build_model_residual(conv_size, conv_depth):\n",
        "  board3d = layers.Input(shape=(14, 8, 8))\n",
        "\n",
        "  # adding the convolutional layers\n",
        "  x = layers.Conv2D(filters=conv_size, kernel_size=3, padding='same', data_format='channels_first')(board3d)\n",
        "  for _ in range(conv_depth):\n",
        "    previous = x\n",
        "    x = layers.Conv2D(filters=conv_size, kernel_size=3, padding='same', data_format='channels_first')(x)\n",
        "    x = layers.BatchNormalization()(x)\n",
        "    x = layers.Activation('relu')(x)\n",
        "    x = layers.Conv2D(filters=conv_size, kernel_size=3, padding='same', data_format='channels_first')(x)\n",
        "    x = layers.BatchNormalization()(x)\n",
        "    x = layers.Add()([x, previous])\n",
        "    x = layers.Activation('relu')(x)\n",
        "  x = layers.Flatten()(x)\n",
        "  x = layers.Dense(1, 'sigmoid')(x)\n",
        "\n",
        "  return models.Model(inputs=board3d, outputs=x)"
      ]
    },
    {
      "cell_type": "markdown",
      "metadata": {
        "id": "ck79-w2ZxwVB"
      },
      "source": [
        "# It's training time!"
      ]
    },
    {
      "cell_type": "code",
      "execution_count": null,
      "metadata": {
        "cellView": "both",
        "id": "CkOXxmoVyHdc"
      },
      "outputs": [],
      "source": [
        "import tensorflow.keras.callbacks as callbacks\n",
        "\n",
        "\n",
        "def get_dataset():\n",
        "\tcontainer = numpy.load('dataset.npz') # Download dataset.npz from the link in Readme.md\n",
        "\tb, v = container['b'], container['v']\n",
        "\tv = numpy.asarray(v / abs(v).max() / 2 + 0.5, dtype=numpy.float32) # normalization (0 - 1)\n",
        "\treturn b, v\n",
        "\n",
        "\n",
        "x_train, y_train = get_dataset()\n",
        "print(x_train.shape)\n",
        "# print(x_train)\n",
        "print(y_train.shape)\n",
        "print(y_train)"
      ]
    },
    {
      "cell_type": "code",
      "execution_count": null,
      "metadata": {
        "id": "RyOYq9mv2ppC"
      },
      "outputs": [],
      "source": [
        "from tensorflow.keras.callbacks import ModelCheckpoint\n",
        "model.compile(optimizer=optimizers.Adam(5e-4), loss='mean_squared_error')\n",
        "model.summary()\n",
        "checkpoint_filepath = '/tmp/checkpoint/'\n",
        "model_checkpointing_callback = ModelCheckpoint(\n",
        "    filepath=checkpoint_filepath,\n",
        "    save_best_only=True,\n",
        ")\n",
        "model.fit(x_train, y_train,\n",
        "          batch_size=2048,\n",
        "          epochs=20,\n",
        "          verbose=1,\n",
        "          validation_split=0.1,\n",
        "          callbacks=[callbacks.ReduceLROnPlateau(monitor='loss', patience=10),\n",
        "                     callbacks.EarlyStopping(monitor='loss', patience=15, min_delta=1e-4), model_checkpointing_callback])"
      ]
    },
    {
      "cell_type": "markdown",
      "metadata": {
        "id": "UndQQeUurAKp"
      },
      "source": [
        "# Playing with the AI"
      ]
    },
    {
      "cell_type": "code",
      "execution_count": null,
      "metadata": {
        "id": "e4CfjcGorHzg"
      },
      "outputs": [],
      "source": [
        "# used for the minimax algorithm\n",
        "def minimax_eval(board):\n",
        "  board3d = split_dims(board)\n",
        "  board3d = numpy.expand_dims(board3d, 0)\n",
        "  return model.predict(board3d)[0][0]\n",
        "\n",
        "\n",
        "def minimax(board, depth, alpha, beta, maximizing_player):\n",
        "  if depth == 0 or board.is_game_over():\n",
        "    return minimax_eval(board)\n",
        "  \n",
        "  if maximizing_player:\n",
        "    max_eval = -numpy.inf\n",
        "    for move in board.legal_moves:\n",
        "      board.push(move)\n",
        "      eval = minimax(board, depth - 1, alpha, beta, False)\n",
        "      board.pop()\n",
        "      max_eval = max(max_eval, eval)\n",
        "      alpha = max(alpha, eval)\n",
        "      if beta <= alpha:\n",
        "        break\n",
        "    return max_eval\n",
        "  else:\n",
        "    min_eval = numpy.inf\n",
        "    for move in board.legal_moves:\n",
        "      board.push(move)\n",
        "      eval = minimax(board, depth - 1, alpha, beta, True)\n",
        "      board.pop()\n",
        "      min_eval = min(min_eval, eval)\n",
        "      beta = min(beta, eval)\n",
        "      if beta <= alpha:\n",
        "        break\n",
        "    return min_eval\n",
        "\n",
        "\n",
        "# this is the actual function that gets the move from the neural network\n",
        "def get_ai_move(board, depth):\n",
        "  max_move = None\n",
        "  max_eval = -numpy.inf\n",
        "\n",
        "  for move in board.legal_moves:\n",
        "    board.push(move)\n",
        "    eval = minimax(board, depth - 1, -numpy.inf, numpy.inf, False)\n",
        "    board.pop()\n",
        "    if eval > max_eval:\n",
        "      max_eval = eval\n",
        "      max_move = move\n",
        "  \n",
        "  return max_move"
      ]
    },
    {
      "cell_type": "code",
      "execution_count": null,
      "metadata": {
        "id": "C63ND0E_uffp"
      },
      "outputs": [],
      "source": [
        "board = chess.Board()\n",
        "\n",
        "with chess.engine.SimpleEngine.popen_uci(filepath) as engine:\n",
        "  while True:\n",
        "    move = get_ai_move(board, 1)\n",
        "    board.push(move)\n",
        "    print(f'\\n{board}')\n",
        "    if board.is_game_over():\n",
        "      break\n",
        "\n",
        "    move = engine.analyse(board, chess.engine.Limit(time=1), info=chess.engine.INFO_PV)['pv'][0]\n",
        "    board.push(move)\n",
        "    print(f'\\n{board}')\n",
        "    if board.is_game_over():\n",
        "      break\n"
      ]
    },
    {
      "cell_type": "code",
      "execution_count": null,
      "metadata": {},
      "outputs": [],
      "source": [
        "## Example of how the move will look like\n",
        "import tensorflow\n",
        "model = tensorflow.keras.models.load_model('modelversion3.h5')\n",
        "move = get_ai_move(board, 1)\n",
        "move\n"
      ]
    },
    {
      "cell_type": "code",
      "execution_count": null,
      "metadata": {
        "id": "pyCtTjfI2aaW"
      },
      "outputs": [],
      "source": [
        "# Move by move testing code AI(white) vs Stockfish(black)\n",
        "board = chess.Board()\n",
        "\n",
        "with chess.engine.SimpleEngine.popen_uci(\n",
        "        r'C:\\Users\\Ritchie Chan\\Desktop\\3004\\Federated_Learning_ChessAI\\ML Module\\Test module_Chess_AI\\stockfish_15_win_x64_avx2\\stockfish_15_win_x64_avx2\\stockfish_15_x64_avx2.exe') as engine:\n",
        "    while True:\n",
        "        move = get_ai_move(board, 1)\n",
        "        board.push(move)\n",
        "        print(f'\\n{board}')\n",
        "        if board.is_game_over():\n",
        "            print('game_over')\n",
        "            break\n",
        "        move = engine.analyse(board, chess.engine.Limit(\n",
        "            time=1), info=chess.engine.INFO_PV)['pv'][0]\n",
        "        board.push(move)\n",
        "        print(f'\\n{board}')\n",
        "        if board.is_game_over():\n",
        "            print('game_over')\n",
        "            break\n"
      ]
    },
    {
      "cell_type": "code",
      "execution_count": null,
      "metadata": {},
      "outputs": [],
      "source": [
        "# Move by move testing code AI(white) vs Stockfish(black)\n",
        "from IPython.display import clear_output\n",
        "board = chess.Board()\n",
        "\n",
        "with chess.engine.SimpleEngine.popen_uci('stockfish/13/bin/stockfish') as engine:\n",
        "    while True:\n",
        "        clear_output(wait=True)\n",
        "        move = get_ai_move(board, 1)\n",
        "        board.push(move)\n",
        "        print(move)\n",
        "        print(f'\\n{board}')\n",
        "        if board.is_game_over():\n",
        "            print('game_over')\n",
        "            break\n",
        "        input_var = input()\n",
        "        move = chess.Move.from_uci(input_var)\n",
        "        board.push(move)\n",
        "        print(move)\n",
        "        print(f'\\n{board}')\n",
        "        if board.is_game_over():\n",
        "            print('game_over')\n",
        "            break\n"
      ]
    },
    {
      "cell_type": "code",
      "execution_count": null,
      "metadata": {},
      "outputs": [],
      "source": [
        "!cp \"/content/drive/My Drive/dataset.zip\" / content/dataset.zip\n",
        "!unzip dataset.zip\n",
        "!rm dataset.zip\n",
        "!chmod + x stockfish\n"
      ]
    },
    {
      "cell_type": "code",
      "execution_count": null,
      "metadata": {
        "id": "O0sjAB1A2Y0U"
      },
      "outputs": [],
      "source": [
        "import random\n",
        "random.seed(37)"
      ]
    },
    {
      "cell_type": "code",
      "execution_count": null,
      "metadata": {},
      "outputs": [],
      "source": [
        "# Additional code - I was using to test some stuff\n",
        "import numpy\n",
        "import tensorflow\n",
        "new_model = tensorflow.keras.models.load_model('modelversion3.h5')\n",
        "new_model.save_weights(\"model_weight/Weights\", save_format=\"h5\")\n",
        "\n",
        "global_weights = new_model.get_weights()\n",
        "global_weights = numpy.array(global_weights, dtype='object')\n",
        "\n",
        "# Additional code - testing to set model weight\n",
        "new_model.load_weights(\n",
        "    \"C:/Users/Ritchie Chan/Desktop/3004/Federated_Learning_ChessAI/ML Module/Actual FL_module/client_weights/server_weights\")\n",
        "\n",
        "arr = []\n",
        "weights = model.get_weights()\n",
        "weights = numpy.array(weights, dtype=\"object\")\n",
        "weights1 = model.get_weights()\n",
        "weights1 = numpy.array(weights1, dtype=\"object\")\n",
        "arr.append(weights)\n",
        "arr.append(weights1)\n",
        "numpy.add(arr[0], arr[1])\n"
      ]
    },
    {
      "cell_type": "code",
      "execution_count": 3,
      "metadata": {},
      "outputs": [
        {
          "name": "stdout",
          "output_type": "stream",
          "text": [
            "Model: \"model\"\n",
            "__________________________________________________________________________________________________\n",
            "Layer (type)                    Output Shape         Param #     Connected to                     \n",
            "==================================================================================================\n",
            "input_1 (InputLayer)            [(None, 14, 8, 8)]   0                                            \n",
            "__________________________________________________________________________________________________\n",
            "conv2d (Conv2D)                 (None, 14, 8, 32)    2336        input_1[0][0]                    \n",
            "__________________________________________________________________________________________________\n",
            "conv2d_1 (Conv2D)               (None, 14, 8, 32)    9248        conv2d[0][0]                     \n",
            "__________________________________________________________________________________________________\n",
            "batch_normalization (BatchNorma (None, 14, 8, 32)    128         conv2d_1[0][0]                   \n",
            "__________________________________________________________________________________________________\n",
            "activation (Activation)         (None, 14, 8, 32)    0           batch_normalization[0][0]        \n",
            "__________________________________________________________________________________________________\n",
            "conv2d_2 (Conv2D)               (None, 14, 8, 32)    9248        activation[0][0]                 \n",
            "__________________________________________________________________________________________________\n",
            "batch_normalization_1 (BatchNor (None, 14, 8, 32)    128         conv2d_2[0][0]                   \n",
            "__________________________________________________________________________________________________\n",
            "add (Add)                       (None, 14, 8, 32)    0           batch_normalization_1[0][0]      \n",
            "                                                                 conv2d[0][0]                     \n",
            "__________________________________________________________________________________________________\n",
            "activation_1 (Activation)       (None, 14, 8, 32)    0           add[0][0]                        \n",
            "__________________________________________________________________________________________________\n",
            "conv2d_3 (Conv2D)               (None, 14, 8, 32)    9248        activation_1[0][0]               \n",
            "__________________________________________________________________________________________________\n",
            "batch_normalization_2 (BatchNor (None, 14, 8, 32)    128         conv2d_3[0][0]                   \n",
            "__________________________________________________________________________________________________\n",
            "activation_2 (Activation)       (None, 14, 8, 32)    0           batch_normalization_2[0][0]      \n",
            "__________________________________________________________________________________________________\n",
            "conv2d_4 (Conv2D)               (None, 14, 8, 32)    9248        activation_2[0][0]               \n",
            "__________________________________________________________________________________________________\n",
            "batch_normalization_3 (BatchNor (None, 14, 8, 32)    128         conv2d_4[0][0]                   \n",
            "__________________________________________________________________________________________________\n",
            "add_1 (Add)                     (None, 14, 8, 32)    0           batch_normalization_3[0][0]      \n",
            "                                                                 activation_1[0][0]               \n",
            "__________________________________________________________________________________________________\n",
            "activation_3 (Activation)       (None, 14, 8, 32)    0           add_1[0][0]                      \n",
            "__________________________________________________________________________________________________\n",
            "conv2d_5 (Conv2D)               (None, 14, 8, 32)    9248        activation_3[0][0]               \n",
            "__________________________________________________________________________________________________\n",
            "batch_normalization_4 (BatchNor (None, 14, 8, 32)    128         conv2d_5[0][0]                   \n",
            "__________________________________________________________________________________________________\n",
            "activation_4 (Activation)       (None, 14, 8, 32)    0           batch_normalization_4[0][0]      \n",
            "__________________________________________________________________________________________________\n",
            "conv2d_6 (Conv2D)               (None, 14, 8, 32)    9248        activation_4[0][0]               \n",
            "__________________________________________________________________________________________________\n",
            "batch_normalization_5 (BatchNor (None, 14, 8, 32)    128         conv2d_6[0][0]                   \n",
            "__________________________________________________________________________________________________\n",
            "add_2 (Add)                     (None, 14, 8, 32)    0           batch_normalization_5[0][0]      \n",
            "                                                                 activation_3[0][0]               \n",
            "__________________________________________________________________________________________________\n",
            "activation_5 (Activation)       (None, 14, 8, 32)    0           add_2[0][0]                      \n",
            "__________________________________________________________________________________________________\n",
            "conv2d_7 (Conv2D)               (None, 14, 8, 32)    9248        activation_5[0][0]               \n",
            "__________________________________________________________________________________________________\n",
            "batch_normalization_6 (BatchNor (None, 14, 8, 32)    128         conv2d_7[0][0]                   \n",
            "__________________________________________________________________________________________________\n",
            "activation_6 (Activation)       (None, 14, 8, 32)    0           batch_normalization_6[0][0]      \n",
            "__________________________________________________________________________________________________\n",
            "conv2d_8 (Conv2D)               (None, 14, 8, 32)    9248        activation_6[0][0]               \n",
            "__________________________________________________________________________________________________\n",
            "batch_normalization_7 (BatchNor (None, 14, 8, 32)    128         conv2d_8[0][0]                   \n",
            "__________________________________________________________________________________________________\n",
            "add_3 (Add)                     (None, 14, 8, 32)    0           batch_normalization_7[0][0]      \n",
            "                                                                 activation_5[0][0]               \n",
            "__________________________________________________________________________________________________\n",
            "activation_7 (Activation)       (None, 14, 8, 32)    0           add_3[0][0]                      \n",
            "__________________________________________________________________________________________________\n",
            "flatten (Flatten)               (None, 3584)         0           activation_7[0][0]               \n",
            "__________________________________________________________________________________________________\n",
            "dense (Dense)                   (None, 1)            3585        flatten[0][0]                    \n",
            "==================================================================================================\n",
            "Total params: 80,929\n",
            "Trainable params: 80,417\n",
            "Non-trainable params: 512\n",
            "__________________________________________________________________________________________________\n"
          ]
        }
      ],
      "source": [
        "import tensorflow\n",
        "new_model = tensorflow.keras.models.load_model('modelversion3.h5')\n",
        "new_model.summary()"
      ]
    },
    {
      "cell_type": "code",
      "execution_count": null,
      "metadata": {},
      "outputs": [],
      "source": []
    }
  ],
  "metadata": {
    "accelerator": "GPU",
    "colab": {
      "collapsed_sections": [],
      "name": "Chess AI",
      "private_outputs": true,
      "provenance": []
    },
    "interpreter": {
      "hash": "7e7666bfb430d4514d1195031d15ccf80594a969647ade4f9e6074d5049c6fab"
    },
    "kernelspec": {
      "display_name": "Python 3.9.7 64-bit",
      "language": "python",
      "name": "python3"
    },
    "language_info": {
      "codemirror_mode": {
        "name": "ipython",
        "version": 3
      },
      "file_extension": ".py",
      "mimetype": "text/x-python",
      "name": "python",
      "nbconvert_exporter": "python",
      "pygments_lexer": "ipython3",
      "version": "3.9.7"
    }
  },
  "nbformat": 4,
  "nbformat_minor": 0
}
